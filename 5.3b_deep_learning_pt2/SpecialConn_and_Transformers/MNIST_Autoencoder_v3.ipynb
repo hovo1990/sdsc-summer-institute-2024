{
 "cells": [
  {
   "cell_type": "markdown",
   "metadata": {
    "id": "Svyum7G3gHcK"
   },
   "source": [
    "## Convolutional Autoencoders\n",
    "\n",
    "This notebook is an autoencoder for MNIST.  Noise is added to the input, so this autoencoder performs image reconstruction from noisy input.  \n",
    "\n",
    "1 Review the code blocks and how the encoder-decoder works, especially make sure you see how the functional API works for building models by specifically list input to each of the network layers  (https://keras.io/guides/functional_api/)\n",
    "\n",
    "2 Run the code and observe results\n",
    "\n",
    "3 Add skip connections then rerun- do skip connections help?  \n",
    "(look for the <<<--- in the decoder function)\n"
   ]
  },
  {
   "cell_type": "code",
   "execution_count": 1,
   "metadata": {
    "id": "3EXwoz-KHtWO"
   },
   "outputs": [
    {
     "name": "stderr",
     "output_type": "stream",
     "text": [
      "2024-06-25 15:21:57.789340: E external/local_xla/xla/stream_executor/cuda/cuda_dnn.cc:9261] Unable to register cuDNN factory: Attempting to register factory for plugin cuDNN when one has already been registered\n",
      "2024-06-25 15:21:57.789409: E external/local_xla/xla/stream_executor/cuda/cuda_fft.cc:607] Unable to register cuFFT factory: Attempting to register factory for plugin cuFFT when one has already been registered\n",
      "2024-06-25 15:21:57.790412: E external/local_xla/xla/stream_executor/cuda/cuda_blas.cc:1515] Unable to register cuBLAS factory: Attempting to register factory for plugin cuBLAS when one has already been registered\n",
      "2024-06-25 15:21:57.796950: I tensorflow/core/platform/cpu_feature_guard.cc:182] This TensorFlow binary is optimized to use available CPU instructions in performance-critical operations.\n",
      "To enable the following instructions: AVX2 FMA, in other operations, rebuild TensorFlow with the appropriate compiler flags.\n"
     ]
    }
   ],
   "source": [
    "import tensorflow as tf\n",
    "import tensorflow_datasets as tfds\n",
    "\n",
    "import numpy as np\n",
    "import matplotlib.pyplot as plt"
   ]
  },
  {
   "cell_type": "markdown",
   "metadata": {
    "id": "e0WGuXlw5bK-"
   },
   "source": [
    "## Prepare the Dataset"
   ]
  },
  {
   "cell_type": "code",
   "execution_count": 2,
   "metadata": {
    "id": "t9F7YsCNIKSA"
   },
   "outputs": [
    {
     "name": "stdout",
     "output_type": "stream",
     "text": [
      "X train shape: (1000, 28, 28, 1)\n",
      "X test shape: (10000, 28, 28, 1)\n"
     ]
    }
   ],
   "source": [
    "#Load MNIST data from Keras datasets\n",
    "(X_train, Y_train), (X_test, Y_test) = tf.keras.datasets.mnist.load_data()\n",
    "\n",
    "X_train=X_train[0:1000,]  #only need smaller subset to get good results\n",
    "Y_train=Y_train[0:1000,]\n",
    "\n",
    "# --------- Reshape input data, b/c Keras expects N-3D images (ie 4D matrix)\n",
    "X_train = X_train[:,:,:,np.newaxis]\n",
    "X_test  = X_test[:,:,:,np.newaxis]\n",
    "\n",
    "#Scale 0 to 1  - or should we not scale\n",
    "X_train = X_train/255.0\n",
    "X_test  = X_test/255.0\n",
    "\n",
    "# Convert 1-dimensional class arrays to 10-dimensional class matrices\n",
    "#Y_train = keras.utils.to_categorical(Y_train, 10)\n",
    "#Y_test  = keras.utils.to_categorical(Y_test,  10)\n",
    "\n",
    "# ------------- End loading and preparing data --------------\n",
    "print('X train shape:', X_train.shape) \n",
    "print('X test shape:', X_test.shape) \n"
   ]
  },
  {
   "cell_type": "code",
   "execution_count": 3,
   "metadata": {},
   "outputs": [
    {
     "name": "stdout",
     "output_type": "stream",
     "text": [
      "noise added\n"
     ]
    }
   ],
   "source": [
    "#Add some noise to make it harder\n",
    "def addnoise(X):\n",
    "    X=X + np.round(np.random.uniform(-1,1,size=X.shape) )\n",
    "    X[np.where(X>1)]=1\n",
    "    X[np.where(X<0)]=0\n",
    "    return X\n",
    "X_train_wnoise = addnoise(X_train)\n",
    "X_test_wnoise  = addnoise(X_test)\n",
    "print('noise added')"
   ]
  },
  {
   "cell_type": "markdown",
   "metadata": {
    "id": "uoyz09uKMDn5"
   },
   "source": [
    "## Define the Model"
   ]
  },
  {
   "cell_type": "markdown",
   "metadata": {
    "id": "V1-Fw_qnZPV7"
   },
   "source": [
    "This will use convolutional layers to build the model. This is composed of three main parts: encoder, bottleneck, and decoder. You will follow the configuration shown in the image below."
   ]
  },
  {
   "cell_type": "raw",
   "metadata": {
    "id": "568W0TYyY9nl"
   },
   "source": [
    "<img src=\"https://drive.google.com/uc?export=view&id=15zh7bst9KKvciRdCvMAH7kXt3nNkABzO\" width=\"75%\" height=\"75%\"/>"
   ]
  },
  {
   "cell_type": "markdown",
   "metadata": {
    "id": "O2IvtyIoZnb4"
   },
   "source": [
    "The encoder will contract with each additional layer. The features are generated with the Conv2D layers while the max pooling layers reduce the dimensionality."
   ]
  },
  {
   "cell_type": "code",
   "execution_count": 4,
   "metadata": {
    "id": "wxh8h-UMk2iL"
   },
   "outputs": [],
   "source": [
    "def encoder(inputs):\n",
    "  '''Defines the encoder with two Conv2D and max pooling layers.'''\n",
    "  conv_1     = tf.keras.layers.Conv2D(filters=64, kernel_size=(3,3), activation='relu', padding='same')(inputs)\n",
    "                                                                     #padding same produces same output size\n",
    "  max_pool_1 = tf.keras.layers.MaxPooling2D(pool_size=(2,2))(conv_1) #max pooling does the downsampling\n",
    "\n",
    "  conv_2      = tf.keras.layers.Conv2D(filters=128, kernel_size=(3,3), activation='relu', padding='same')(max_pool_1)\n",
    "  max_pool_2  = tf.keras.layers.MaxPooling2D(pool_size=(2,2))(conv_2)\n",
    "\n",
    "  return max_pool_2, conv_1, conv_2   #Notice this returns the last layer and intermediate ones"
   ]
  },
  {
   "cell_type": "markdown",
   "metadata": {
    "id": "g9KQYnabazLl"
   },
   "source": [
    "## A bottleneck layer is generally used to get reduce dimensionse and force good representations."
   ]
  },
  {
   "cell_type": "code",
   "execution_count": 5,
   "metadata": {
    "id": "wRWmLA3VliDr"
   },
   "outputs": [],
   "source": [
    "def bottle_neck(inputs):\n",
    "  '''Defines the bottleneck.''' #how many filters do we need here?\n",
    "  bottle_neck = tf.keras.layers.Conv2D(filters=16, kernel_size=(3,3), activation='relu', padding='same',name='thebottleneck')(inputs)\n",
    "    #no maxpooling so no downsampling, \n",
    "  \n",
    "  return bottle_neck"
   ]
  },
  {
   "cell_type": "markdown",
   "metadata": {
    "id": "FayvcE3ebZxk"
   },
   "source": [
    "## Add a skip connection with concatenation here \n",
    "\n",
    "The decoder will upsample the bottleneck output back to the original image size. \n",
    "\n",
    "To add a skip connection, first match up the correct encoding output to the decoding input, so that he feature maps are the same size \n",
    "\n",
    "Use the tensorflow concatenation function as described here:\n",
    "\n",
    "https://keras.io/api/layers/merging_layers/concatenate/"
   ]
  },
  {
   "cell_type": "code",
   "execution_count": 6,
   "metadata": {
    "id": "XZgLt5uAmArk"
   },
   "outputs": [],
   "source": [
    "def decoder(inputs, enc_conv1,enc_conv2):\n",
    "  '''Defines the decoder path to upsample back to the original image size.'''\n",
    "  #Notice that padding = same keeps the output same size as input \n",
    "  \n",
    "  conv_1      = tf.keras.layers.Conv2D(filters=128, kernel_size=(3,3), activation='relu', padding='same')(inputs)\n",
    "  up_sample_1 = tf.keras.layers.UpSampling2D(size=(2,2))(conv_1)\n",
    "\n",
    "  # ---->>>> add concatenate statement to add the encoding layer that matches up_sample_1, either enc_conv1 or enc_conv2\n",
    "  # ---->>>>     also change the input to conv2 layer, instead of up_sample_1 it should be the concatenated layer\n",
    "  #skip_concat_1 = tf.keras.layers.Concatenate(axis=-1)([up_sample_1, ____]) \n",
    "   \n",
    "  conv_2      = tf.keras.layers.Conv2D(filters=64, kernel_size=(3,3), activation='relu', padding='same')(up_sample_1)\n",
    "  up_sample_2 = tf.keras.layers.UpSampling2D(size=(2,2))(conv_2)\n",
    "\n",
    "    \n",
    "  #---->>> add another concatenation here to match upsample_2 with an encoding layer output \n",
    "  #---->>>    also change the input to conv2 layer\n",
    "  #skip_concat_2 =\n",
    "    \n",
    "  conv_3      = tf.keras.layers.Conv2D(filters=1, kernel_size=(3,3), activation='sigmoid', padding='same')(up_sample_2)\n",
    "\n",
    "  return conv_3"
   ]
  },
  {
   "cell_type": "markdown",
   "metadata": {
    "id": "Dvfhvk9qbvCp"
   },
   "source": [
    "You can now build the full autoencoder using the functions above.\n",
    "\n",
    "Notice that 2 models are actually built; the encoder model is just to v"
   ]
  },
  {
   "cell_type": "code",
   "execution_count": 7,
   "metadata": {
    "id": "fQKwO64iiOYl"
   },
   "outputs": [],
   "source": [
    "def convolutional_auto_encoder():\n",
    "  '''Builds the entire autoencoder model.'''\n",
    "  inputs                                     = tf.keras.layers.Input(shape=(28, 28, 1,))\n",
    "  encoder_output, enc_conv1_output, enc_conv2_output = encoder(inputs)\n",
    "  bottleneck_output                          = bottle_neck(encoder_output)\n",
    "  decoder_output                             = decoder(bottleneck_output, enc_conv1_output, enc_conv2_output)\n",
    "  \n",
    "  model         = tf.keras.Model(inputs =inputs, outputs=decoder_output)\n",
    "  return model\n",
    "\n"
   ]
  },
  {
   "cell_type": "code",
   "execution_count": 8,
   "metadata": {
    "id": "1MmS7r0tkuIf",
    "scrolled": true
   },
   "outputs": [
    {
     "name": "stdout",
     "output_type": "stream",
     "text": [
      "Model: \"model\"\n",
      "_________________________________________________________________\n",
      " Layer (type)                Output Shape              Param #   \n",
      "=================================================================\n",
      " input_1 (InputLayer)        [(None, 28, 28, 1)]       0         \n",
      "                                                                 \n",
      " conv2d (Conv2D)             (None, 28, 28, 64)        640       \n",
      "                                                                 \n",
      " max_pooling2d (MaxPooling2  (None, 14, 14, 64)        0         \n",
      " D)                                                              \n",
      "                                                                 \n",
      " conv2d_1 (Conv2D)           (None, 14, 14, 128)       73856     \n",
      "                                                                 \n",
      " max_pooling2d_1 (MaxPoolin  (None, 7, 7, 128)         0         \n",
      " g2D)                                                            \n",
      "                                                                 \n",
      " thebottleneck (Conv2D)      (None, 7, 7, 16)          18448     \n",
      "                                                                 \n",
      " conv2d_2 (Conv2D)           (None, 7, 7, 128)         18560     \n",
      "                                                                 \n",
      " up_sampling2d (UpSampling2  (None, 14, 14, 128)       0         \n",
      " D)                                                              \n",
      "                                                                 \n",
      " conv2d_3 (Conv2D)           (None, 14, 14, 64)        73792     \n",
      "                                                                 \n",
      " up_sampling2d_1 (UpSamplin  (None, 28, 28, 64)        0         \n",
      " g2D)                                                            \n",
      "                                                                 \n",
      " conv2d_4 (Conv2D)           (None, 28, 28, 1)         577       \n",
      "                                                                 \n",
      "=================================================================\n",
      "Total params: 185873 (726.07 KB)\n",
      "Trainable params: 185873 (726.07 KB)\n",
      "Non-trainable params: 0 (0.00 Byte)\n",
      "_________________________________________________________________\n"
     ]
    },
    {
     "name": "stderr",
     "output_type": "stream",
     "text": [
      "2024-06-25 15:22:00.821732: E external/local_xla/xla/stream_executor/cuda/cuda_driver.cc:274] failed call to cuInit: CUDA_ERROR_NO_DEVICE: no CUDA-capable device is detected\n"
     ]
    }
   ],
   "source": [
    "convolutional_model = convolutional_auto_encoder()\n",
    "convolutional_model.summary() \n",
    "\n"
   ]
  },
  {
   "cell_type": "markdown",
   "metadata": {
    "id": "5FRxRr0LMLCs"
   },
   "source": [
    "## Compile and Train the model"
   ]
  },
  {
   "cell_type": "code",
   "execution_count": 9,
   "metadata": {
    "id": "J0Umj_xaiHL_"
   },
   "outputs": [
    {
     "name": "stdout",
     "output_type": "stream",
     "text": [
      "Epoch 1/20\n",
      "8/8 [==============================] - 5s 515ms/step - loss: 0.5271 - val_loss: 0.4475\n",
      "Epoch 2/20\n",
      "8/8 [==============================] - 4s 501ms/step - loss: 0.3814 - val_loss: 0.3063\n",
      "Epoch 3/20\n",
      "8/8 [==============================] - 4s 521ms/step - loss: 0.2810 - val_loss: 0.2731\n",
      "Epoch 4/20\n",
      "8/8 [==============================] - 4s 565ms/step - loss: 0.2688 - val_loss: 0.2647\n",
      "Epoch 5/20\n",
      "8/8 [==============================] - 4s 510ms/step - loss: 0.2590 - val_loss: 0.2618\n",
      "Epoch 6/20\n",
      "8/8 [==============================] - 4s 532ms/step - loss: 0.2524 - val_loss: 0.2450\n",
      "Epoch 7/20\n",
      "8/8 [==============================] - 3s 477ms/step - loss: 0.2376 - val_loss: 0.2306\n",
      "Epoch 8/20\n",
      "8/8 [==============================] - 4s 499ms/step - loss: 0.2252 - val_loss: 0.2225\n",
      "Epoch 9/20\n",
      "8/8 [==============================] - 4s 544ms/step - loss: 0.2126 - val_loss: 0.2060\n",
      "Epoch 10/20\n",
      "8/8 [==============================] - 4s 567ms/step - loss: 0.1995 - val_loss: 0.1948\n",
      "Epoch 11/20\n",
      "8/8 [==============================] - 3s 472ms/step - loss: 0.1896 - val_loss: 0.1875\n",
      "Epoch 12/20\n",
      "8/8 [==============================] - 4s 552ms/step - loss: 0.1841 - val_loss: 0.1829\n",
      "Epoch 13/20\n",
      "8/8 [==============================] - 4s 548ms/step - loss: 0.1783 - val_loss: 0.1790\n",
      "Epoch 14/20\n",
      "8/8 [==============================] - 4s 506ms/step - loss: 0.1737 - val_loss: 0.1770\n",
      "Epoch 15/20\n",
      "8/8 [==============================] - 4s 543ms/step - loss: 0.1696 - val_loss: 0.1711\n",
      "Epoch 16/20\n",
      "8/8 [==============================] - 4s 523ms/step - loss: 0.1662 - val_loss: 0.1677\n",
      "Epoch 17/20\n",
      "8/8 [==============================] - 4s 538ms/step - loss: 0.1648 - val_loss: 0.1650\n",
      "Epoch 18/20\n",
      "8/8 [==============================] - 4s 548ms/step - loss: 0.1608 - val_loss: 0.1659\n",
      "Epoch 19/20\n",
      "8/8 [==============================] - 4s 573ms/step - loss: 0.1586 - val_loss: 0.1604\n",
      "Epoch 20/20\n",
      "8/8 [==============================] - 4s 589ms/step - loss: 0.1551 - val_loss: 0.1594\n"
     ]
    }
   ],
   "source": [
    "myES_function = tf.keras.callbacks.EarlyStopping(monitor='val_loss', mode='min', patience=5)\n",
    "\n",
    "convolutional_model.compile(optimizer=tf.keras.optimizers.Adam(), loss='binary_crossentropy')\n",
    "conv_model_history = convolutional_model.fit(X_train_wnoise,X_train, \n",
    "                                             validation_data=(X_test_wnoise,X_test),\n",
    "                                             batch_size=128,\n",
    "                                             epochs=20,callbacks=[myES_function])\n"
   ]
  },
  {
   "cell_type": "markdown",
   "metadata": {
    "id": "-8zE9OiAMUd7"
   },
   "source": [
    "## Display sample results"
   ]
  },
  {
   "cell_type": "markdown",
   "metadata": {
    "id": "DCUOM7F_cf26"
   },
   "source": [
    "As usual, let's see some sample results from the trained model."
   ]
  },
  {
   "cell_type": "code",
   "execution_count": 10,
   "metadata": {
    "id": "A35RlIqKIsQv"
   },
   "outputs": [],
   "source": [
    "def display_one_row(disp_images, offset, shape=(28, 28)):\n",
    "  '''Display sample outputs in one row.'''\n",
    "  for idx, test_image in enumerate(disp_images):\n",
    "    plt.subplot(3, 10, offset + idx + 1)\n",
    "    plt.xticks([])\n",
    "    plt.yticks([])\n",
    "    test_image = np.reshape(test_image, shape)\n",
    "    plt.imshow(test_image, cmap='gray')\n",
    "\n",
    "\n",
    "def display_results(disp_input_images, disp_predicted, enc_shape=(8,4)):\n",
    "  '''Displays the input, encoded, and decoded output values.'''\n",
    "  plt.figure(figsize=(15, 5))\n",
    "  display_one_row(disp_input_images, 0, shape=(28,28,))\n",
    "  display_one_row(disp_predicted, 20, shape=(28,28,))"
   ]
  },
  {
   "cell_type": "code",
   "execution_count": 11,
   "metadata": {
    "id": "qtQyQRxRN_hH",
    "scrolled": true
   },
   "outputs": [
    {
     "name": "stdout",
     "output_type": "stream",
     "text": [
      "1/1 [==============================] - 0s 97ms/step\n"
     ]
    },
    {
     "data": {
      "image/png": "[encoded data removed]",
      "text/plain": [
       "<Figure size 1500x500 with 20 Axes>"
      ]
     },
     "metadata": {},
     "output_type": "display_data"
    }
   ],
   "source": [
    "# pick 10 indices\n",
    "idxs = np.array([1, 2, 3, 4, 5, 6, 7, 8, 9, 10])\n",
    "\n",
    "# prepare test samples as a batch of 10 images\n",
    "input_test_samples = np.array(X_test_wnoise[idxs])\n",
    "input_test_samples = np.reshape(input_test_samples, (10, 28, 28, 1))\n",
    "\n",
    "# get a prediction for some values in the dataset\n",
    "predicted = convolutional_model.predict(input_test_samples)\n",
    "\n",
    "# display the samples, encodings and decoded values!\n",
    "display_results(input_test_samples, predicted, enc_shape=(7,7))"
   ]
  },
  {
   "cell_type": "code",
   "execution_count": null,
   "metadata": {},
   "outputs": [],
   "source": []
  },
  {
   "cell_type": "code",
   "execution_count": null,
   "metadata": {},
   "outputs": [],
   "source": []
  }
 ],
 "metadata": {
  "accelerator": "GPU",
  "colab": {
   "collapsed_sections": [],
   "name": "C4_W2_Lab_4_FashionMNIST_CNNAutoEncoder.ipynb",
   "private_outputs": true,
   "provenance": []
  },
  "kernelspec": {
   "display_name": "Python 3 (ipykernel)",
   "language": "python",
   "name": "python3"
  },
  "language_info": {
   "codemirror_mode": {
    "name": "ipython",
    "version": 3
   },
   "file_extension": ".py",
   "mimetype": "text/x-python",
   "name": "python",
   "nbconvert_exporter": "python",
   "pygments_lexer": "ipython3",
   "version": "3.10.12"
  }
 },
 "nbformat": 4,
 "nbformat_minor": 4
}

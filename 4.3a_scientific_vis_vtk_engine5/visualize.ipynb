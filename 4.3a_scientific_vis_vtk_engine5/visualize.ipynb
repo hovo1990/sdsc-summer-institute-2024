{
 "cells": [
  {
   "cell_type": "code",
   "execution_count": 1,
   "id": "5998b5e8",
   "metadata": {},
   "outputs": [],
   "source": [
    "import pyvista as pv"
   ]
  },
  {
   "cell_type": "markdown",
   "id": "3b00a726",
   "metadata": {},
   "source": [
    "### read a dataset from file"
   ]
  },
  {
   "cell_type": "code",
   "execution_count": 2,
   "id": "e7c8c40a",
   "metadata": {},
   "outputs": [],
   "source": [
    "reader = pv.get_reader('vtk_example_1a.vtk')\n",
    "# reader = pv.get_reader('vtk_example_2.vtk')\n",
    "# ..."
   ]
  },
  {
   "cell_type": "code",
   "execution_count": 6,
   "id": "586652f1",
   "metadata": {},
   "outputs": [],
   "source": [
    "mesh = reader.read()"
   ]
  },
  {
   "cell_type": "markdown",
   "id": "c96ad618",
   "metadata": {},
   "source": [
    "#### read about display options here:\n",
    "https://tutorial.pyvista.org/tutorial/03_figures/solutions/a_display_options.html"
   ]
  },
  {
   "cell_type": "code",
   "execution_count": 7,
   "id": "d28d52d9",
   "metadata": {},
   "outputs": [
    {
     "data": {
      "application/vnd.jupyter.widget-view+json": {
       "model_id": "f11e96aee8fc479ebadca76c833196c2",
       "version_major": 2,
       "version_minor": 0
      },
      "text/plain": [
       "Widget(value=\"<iframe src='http://localhost:34235/index.html?ui=P_0x7f0bdd571fa0_1&reconnect=auto' style='widt…"
      ]
     },
     "metadata": {},
     "output_type": "display_data"
    }
   ],
   "source": [
    "mesh.plot(cpos='yz', show_scalar_bar=True, show_edges=True, cmap='jet')"
   ]
  },
  {
   "cell_type": "code",
   "execution_count": null,
   "id": "974a4a3b",
   "metadata": {},
   "outputs": [],
   "source": []
  }
 ],
 "metadata": {
  "kernelspec": {
   "display_name": "Python 3 (ipykernel)",
   "language": "python",
   "name": "python3"
  },
  "language_info": {
   "codemirror_mode": {
    "name": "ipython",
    "version": 3
   },
   "file_extension": ".py",
   "mimetype": "text/x-python",
   "name": "python",
   "nbconvert_exporter": "python",
   "pygments_lexer": "ipython3",
   "version": "3.8.10"
  }
 },
 "nbformat": 4,
 "nbformat_minor": 5
}

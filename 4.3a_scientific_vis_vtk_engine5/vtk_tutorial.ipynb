{
 "cells": [
  {
   "cell_type": "code",
   "execution_count": 3,
   "id": "e82a8719-70a4-4627-aad2-3a7c74246c26",
   "metadata": {},
   "outputs": [
    {
     "name": "stdout",
     "output_type": "stream",
     "text": [
      "zsh:1: no matches found: pyvista[jupyter]\n"
     ]
    }
   ],
   "source": [
    "!pip install 'numpy<2.0' matplotlib PyVTK pyvista[jupyter]"
   ]
  },
  {
   "cell_type": "code",
   "execution_count": 3,
   "id": "82f58030",
   "metadata": {},
   "outputs": [],
   "source": [
    "import numpy as np"
   ]
  },
  {
   "cell_type": "code",
   "execution_count": 4,
   "id": "14e8c42f",
   "metadata": {},
   "outputs": [
    {
     "name": "stdout",
     "output_type": "stream",
     "text": [
      "Collecting numpy<2.0\n",
      "  Downloading numpy-1.26.4-cp311-cp311-macosx_11_0_arm64.whl.metadata (114 kB)\n",
      "\u001b[2K     \u001b[90m━━━━━━━━━━━━━━━━━━━━━━━━━━━━━━━━━━━━━━━\u001b[0m \u001b[32m114.8/114.8 kB\u001b[0m \u001b[31m2.5 MB/s\u001b[0m eta \u001b[36m0:00:00\u001b[0m00:01\u001b[0m\n",
      "\u001b[?25hDownloading numpy-1.26.4-cp311-cp311-macosx_11_0_arm64.whl (14.0 MB)\n",
      "\u001b[2K   \u001b[90m━━━━━━━━━━━━━━━━━━━━━━━━━━━━━━━━━━━━━━━━\u001b[0m \u001b[32m14.0/14.0 MB\u001b[0m \u001b[31m8.2 MB/s\u001b[0m eta \u001b[36m0:00:00\u001b[0m00:01\u001b[0m00:01\u001b[0m\n",
      "\u001b[?25hInstalling collected packages: numpy\n",
      "Successfully installed numpy-1.26.4\n"
     ]
    }
   ],
   "source": [
    "!pip install 'numpy<2.0'"
   ]
  },
  {
   "cell_type": "code",
   "execution_count": 6,
   "id": "ca7a2bb8",
   "metadata": {},
   "outputs": [
    {
     "name": "stdout",
     "output_type": "stream",
     "text": [
      "Collecting matplotlib\n",
      "  Downloading matplotlib-3.9.1.post1-cp311-cp311-macosx_11_0_arm64.whl.metadata (11 kB)\n",
      "Collecting PyVTK\n",
      "  Downloading PyVTK-0.5.18.zip (31 kB)\n",
      "  Preparing metadata (setup.py) ... \u001b[?25ldone\n",
      "\u001b[?25hCollecting pyvista\n",
      "  Using cached pyvista-0.44.1-py3-none-any.whl.metadata (15 kB)\n",
      "Collecting contourpy>=1.0.1 (from matplotlib)\n",
      "  Downloading contourpy-1.2.1-cp311-cp311-macosx_11_0_arm64.whl.metadata (5.8 kB)\n",
      "Collecting cycler>=0.10 (from matplotlib)\n",
      "  Using cached cycler-0.12.1-py3-none-any.whl.metadata (3.8 kB)\n",
      "Collecting fonttools>=4.22.0 (from matplotlib)\n",
      "  Downloading fonttools-4.53.1-cp311-cp311-macosx_11_0_arm64.whl.metadata (162 kB)\n",
      "\u001b[2K     \u001b[90m━━━━━━━━━━━━━━━━━━━━━━━━━━━━━━━━━━━━━━━\u001b[0m \u001b[32m162.6/162.6 kB\u001b[0m \u001b[31m6.7 MB/s\u001b[0m eta \u001b[36m0:00:00\u001b[0m\n",
      "\u001b[?25hCollecting kiwisolver>=1.3.1 (from matplotlib)\n",
      "  Downloading kiwisolver-1.4.5-cp311-cp311-macosx_11_0_arm64.whl.metadata (6.4 kB)\n",
      "Requirement already satisfied: numpy>=1.23 in /Users/hovakim_grabski/GitSync/CIP_schools/sdsc-summer-institute-2024/.conda/lib/python3.11/site-packages (from matplotlib) (1.26.4)\n",
      "Requirement already satisfied: packaging>=20.0 in /Users/hovakim_grabski/GitSync/CIP_schools/sdsc-summer-institute-2024/.conda/lib/python3.11/site-packages (from matplotlib) (24.1)\n",
      "Collecting pillow>=8 (from matplotlib)\n",
      "  Downloading pillow-10.4.0-cp311-cp311-macosx_11_0_arm64.whl.metadata (9.2 kB)\n",
      "Collecting pyparsing>=2.3.1 (from matplotlib)\n",
      "  Using cached pyparsing-3.1.2-py3-none-any.whl.metadata (5.1 kB)\n",
      "Requirement already satisfied: python-dateutil>=2.7 in /Users/hovakim_grabski/GitSync/CIP_schools/sdsc-summer-institute-2024/.conda/lib/python3.11/site-packages (from matplotlib) (2.9.0)\n",
      "Requirement already satisfied: six in /Users/hovakim_grabski/GitSync/CIP_schools/sdsc-summer-institute-2024/.conda/lib/python3.11/site-packages (from PyVTK) (1.16.0)\n",
      "Collecting pooch (from pyvista)\n",
      "  Using cached pooch-1.8.2-py3-none-any.whl.metadata (10 kB)\n",
      "Collecting scooby>=0.5.1 (from pyvista)\n",
      "  Using cached scooby-0.10.0-py3-none-any.whl.metadata (15 kB)\n",
      "Collecting vtk (from pyvista)\n",
      "  Downloading vtk-9.3.1-cp311-cp311-macosx_11_0_arm64.whl.metadata (5.2 kB)\n",
      "Requirement already satisfied: typing-extensions in /Users/hovakim_grabski/GitSync/CIP_schools/sdsc-summer-institute-2024/.conda/lib/python3.11/site-packages (from pyvista) (4.12.2)\n",
      "Requirement already satisfied: platformdirs>=2.5.0 in /Users/hovakim_grabski/GitSync/CIP_schools/sdsc-summer-institute-2024/.conda/lib/python3.11/site-packages (from pooch->pyvista) (4.2.2)\n",
      "Collecting requests>=2.19.0 (from pooch->pyvista)\n",
      "  Using cached requests-2.32.3-py3-none-any.whl.metadata (4.6 kB)\n",
      "Collecting charset-normalizer<4,>=2 (from requests>=2.19.0->pooch->pyvista)\n",
      "  Downloading charset_normalizer-3.3.2-cp311-cp311-macosx_11_0_arm64.whl.metadata (33 kB)\n",
      "Collecting idna<4,>=2.5 (from requests>=2.19.0->pooch->pyvista)\n",
      "  Using cached idna-3.7-py3-none-any.whl.metadata (9.9 kB)\n",
      "Collecting urllib3<3,>=1.21.1 (from requests>=2.19.0->pooch->pyvista)\n",
      "  Using cached urllib3-2.2.2-py3-none-any.whl.metadata (6.4 kB)\n",
      "Collecting certifi>=2017.4.17 (from requests>=2.19.0->pooch->pyvista)\n",
      "  Using cached certifi-2024.7.4-py3-none-any.whl.metadata (2.2 kB)\n",
      "Downloading matplotlib-3.9.1.post1-cp311-cp311-macosx_11_0_arm64.whl (7.8 MB)\n",
      "\u001b[2K   \u001b[90m━━━━━━━━━━━━━━━━━━━━━━━━━━━━━━━━━━━━━━━━\u001b[0m \u001b[32m7.8/7.8 MB\u001b[0m \u001b[31m14.8 MB/s\u001b[0m eta \u001b[36m0:00:00\u001b[0m00:01\u001b[0m00:01\u001b[0m\n",
      "\u001b[?25hUsing cached pyvista-0.44.1-py3-none-any.whl (2.2 MB)\n",
      "Downloading contourpy-1.2.1-cp311-cp311-macosx_11_0_arm64.whl (245 kB)\n",
      "\u001b[2K   \u001b[90m━━━━━━━━━━━━━━━━━━━━━━━━━━━━━━━━━━━━━━━━\u001b[0m \u001b[32m245.9/245.9 kB\u001b[0m \u001b[31m10.9 MB/s\u001b[0m eta \u001b[36m0:00:00\u001b[0m\n",
      "\u001b[?25hUsing cached cycler-0.12.1-py3-none-any.whl (8.3 kB)\n",
      "Downloading fonttools-4.53.1-cp311-cp311-macosx_11_0_arm64.whl (2.2 MB)\n",
      "\u001b[2K   \u001b[90m━━━━━━━━━━━━━━━━━━━━━━━━━━━━━━━━━━━━━━━━\u001b[0m \u001b[32m2.2/2.2 MB\u001b[0m \u001b[31m13.8 MB/s\u001b[0m eta \u001b[36m0:00:00\u001b[0m00:01\u001b[0m00:01\u001b[0m\n",
      "\u001b[?25hDownloading kiwisolver-1.4.5-cp311-cp311-macosx_11_0_arm64.whl (66 kB)\n",
      "\u001b[2K   \u001b[90m━━━━━━━━━━━━━━━━━━━━━━━━━━━━━━━━━━━━━━━━\u001b[0m \u001b[32m66.2/66.2 kB\u001b[0m \u001b[31m7.0 MB/s\u001b[0m eta \u001b[36m0:00:00\u001b[0m\n",
      "\u001b[?25hDownloading pillow-10.4.0-cp311-cp311-macosx_11_0_arm64.whl (3.4 MB)\n",
      "\u001b[2K   \u001b[90m━━━━━━━━━━━━━━━━━━━━━━━━━━━━━━━━━━━━━━━━\u001b[0m \u001b[32m3.4/3.4 MB\u001b[0m \u001b[31m14.6 MB/s\u001b[0m eta \u001b[36m0:00:00\u001b[0m00:01\u001b[0m00:01\u001b[0m\n",
      "\u001b[?25hUsing cached pyparsing-3.1.2-py3-none-any.whl (103 kB)\n",
      "Using cached scooby-0.10.0-py3-none-any.whl (18 kB)\n",
      "Using cached pooch-1.8.2-py3-none-any.whl (64 kB)\n",
      "Downloading vtk-9.3.1-cp311-cp311-macosx_11_0_arm64.whl (70.4 MB)\n",
      "\u001b[2K   \u001b[90m━━━━━━━━━━━━━━━━━━━━━━━━━━━━━━━━━━━━━━━━\u001b[0m \u001b[32m70.4/70.4 MB\u001b[0m \u001b[31m3.1 MB/s\u001b[0m eta \u001b[36m0:00:00\u001b[0m00:01\u001b[0m00:01\u001b[0mm\n",
      "\u001b[?25hUsing cached requests-2.32.3-py3-none-any.whl (64 kB)\n",
      "Using cached certifi-2024.7.4-py3-none-any.whl (162 kB)\n",
      "Downloading charset_normalizer-3.3.2-cp311-cp311-macosx_11_0_arm64.whl (118 kB)\n",
      "\u001b[2K   \u001b[90m━━━━━━━━━━━━━━━━━━━━━━━━━━━━━━━━━━━━━━━━\u001b[0m \u001b[32m119.0/119.0 kB\u001b[0m \u001b[31m3.1 MB/s\u001b[0m eta \u001b[36m0:00:00\u001b[0ma \u001b[36m0:00:01\u001b[0m\n",
      "\u001b[?25hUsing cached idna-3.7-py3-none-any.whl (66 kB)\n",
      "Using cached urllib3-2.2.2-py3-none-any.whl (121 kB)\n",
      "Building wheels for collected packages: PyVTK\n",
      "  Building wheel for PyVTK (setup.py) ... \u001b[?25ldone\n",
      "\u001b[?25h  Created wheel for PyVTK: filename=PyVTK-0.5.18-py3-none-any.whl size=24733 sha256=d072b433e42c3bf96689b8728217dd1ac52eb555df22bd2df6a5f656d99adb08\n",
      "  Stored in directory: /Users/hovakim_grabski/Library/Caches/pip/wheels/ef/6e/c8/439a2e2b3f1d0b4fff80f4a2d26b66c3859805f92d02b89211\n",
      "Successfully built PyVTK\n",
      "Installing collected packages: urllib3, scooby, PyVTK, pyparsing, pillow, kiwisolver, idna, fonttools, cycler, contourpy, charset-normalizer, certifi, requests, matplotlib, vtk, pooch, pyvista\n",
      "Successfully installed PyVTK-0.5.18 certifi-2024.7.4 charset-normalizer-3.3.2 contourpy-1.2.1 cycler-0.12.1 fonttools-4.53.1 idna-3.7 kiwisolver-1.4.5 matplotlib-3.9.1.post1 pillow-10.4.0 pooch-1.8.2 pyparsing-3.1.2 pyvista-0.44.1 requests-2.32.3 scooby-0.10.0 urllib3-2.2.2 vtk-9.3.1\n"
     ]
    }
   ],
   "source": [
    "!pip install matplotlib PyVTK pyvista"
   ]
  },
  {
   "cell_type": "code",
   "execution_count": 7,
   "id": "49be70f5",
   "metadata": {},
   "outputs": [
    {
     "name": "stdout",
     "output_type": "stream",
     "text": [
      "Requirement already satisfied: pyvista[jupyter] in /Users/hovakim_grabski/GitSync/CIP_schools/sdsc-summer-institute-2024/.conda/lib/python3.11/site-packages (0.44.1)\n",
      "Requirement already satisfied: matplotlib>=3.0.1 in /Users/hovakim_grabski/GitSync/CIP_schools/sdsc-summer-institute-2024/.conda/lib/python3.11/site-packages (from pyvista[jupyter]) (3.9.1.post1)\n",
      "Requirement already satisfied: numpy>=1.21.0 in /Users/hovakim_grabski/GitSync/CIP_schools/sdsc-summer-institute-2024/.conda/lib/python3.11/site-packages (from pyvista[jupyter]) (1.26.4)\n",
      "Requirement already satisfied: pillow in /Users/hovakim_grabski/GitSync/CIP_schools/sdsc-summer-institute-2024/.conda/lib/python3.11/site-packages (from pyvista[jupyter]) (10.4.0)\n",
      "Requirement already satisfied: pooch in /Users/hovakim_grabski/GitSync/CIP_schools/sdsc-summer-institute-2024/.conda/lib/python3.11/site-packages (from pyvista[jupyter]) (1.8.2)\n",
      "Requirement already satisfied: scooby>=0.5.1 in /Users/hovakim_grabski/GitSync/CIP_schools/sdsc-summer-institute-2024/.conda/lib/python3.11/site-packages (from pyvista[jupyter]) (0.10.0)\n",
      "Requirement already satisfied: vtk in /Users/hovakim_grabski/GitSync/CIP_schools/sdsc-summer-institute-2024/.conda/lib/python3.11/site-packages (from pyvista[jupyter]) (9.3.1)\n",
      "Requirement already satisfied: typing-extensions in /Users/hovakim_grabski/GitSync/CIP_schools/sdsc-summer-institute-2024/.conda/lib/python3.11/site-packages (from pyvista[jupyter]) (4.12.2)\n",
      "Collecting ipywidgets (from pyvista[jupyter])\n",
      "  Downloading ipywidgets-8.1.3-py3-none-any.whl.metadata (2.4 kB)\n",
      "Collecting jupyter-server-proxy (from pyvista[jupyter])\n",
      "  Downloading jupyter_server_proxy-4.3.0-py3-none-any.whl.metadata (8.7 kB)\n",
      "Requirement already satisfied: nest-asyncio in /Users/hovakim_grabski/GitSync/CIP_schools/sdsc-summer-institute-2024/.conda/lib/python3.11/site-packages (from pyvista[jupyter]) (1.6.0)\n",
      "Collecting trame>=2.5.2 (from pyvista[jupyter])\n",
      "  Downloading trame-3.6.3-py3-none-any.whl.metadata (7.2 kB)\n",
      "Collecting trame-client>=2.12.7 (from pyvista[jupyter])\n",
      "  Downloading trame_client-3.2.1-py3-none-any.whl.metadata (3.8 kB)\n",
      "Collecting trame-server>=2.11.7 (from pyvista[jupyter])\n",
      "  Downloading trame_server-3.0.3-py3-none-any.whl.metadata (4.5 kB)\n",
      "Collecting trame-vtk>=2.5.8 (from pyvista[jupyter])\n",
      "  Downloading trame_vtk-2.8.10-py3-none-any.whl.metadata (12 kB)\n",
      "Collecting trame-vuetify>=2.3.1 (from pyvista[jupyter])\n",
      "  Downloading trame_vuetify-2.6.2-py3-none-any.whl.metadata (5.0 kB)\n",
      "Requirement already satisfied: contourpy>=1.0.1 in /Users/hovakim_grabski/GitSync/CIP_schools/sdsc-summer-institute-2024/.conda/lib/python3.11/site-packages (from matplotlib>=3.0.1->pyvista[jupyter]) (1.2.1)\n",
      "Requirement already satisfied: cycler>=0.10 in /Users/hovakim_grabski/GitSync/CIP_schools/sdsc-summer-institute-2024/.conda/lib/python3.11/site-packages (from matplotlib>=3.0.1->pyvista[jupyter]) (0.12.1)\n",
      "Requirement already satisfied: fonttools>=4.22.0 in /Users/hovakim_grabski/GitSync/CIP_schools/sdsc-summer-institute-2024/.conda/lib/python3.11/site-packages (from matplotlib>=3.0.1->pyvista[jupyter]) (4.53.1)\n",
      "Requirement already satisfied: kiwisolver>=1.3.1 in /Users/hovakim_grabski/GitSync/CIP_schools/sdsc-summer-institute-2024/.conda/lib/python3.11/site-packages (from matplotlib>=3.0.1->pyvista[jupyter]) (1.4.5)\n",
      "Requirement already satisfied: packaging>=20.0 in /Users/hovakim_grabski/GitSync/CIP_schools/sdsc-summer-institute-2024/.conda/lib/python3.11/site-packages (from matplotlib>=3.0.1->pyvista[jupyter]) (24.1)\n",
      "Requirement already satisfied: pyparsing>=2.3.1 in /Users/hovakim_grabski/GitSync/CIP_schools/sdsc-summer-institute-2024/.conda/lib/python3.11/site-packages (from matplotlib>=3.0.1->pyvista[jupyter]) (3.1.2)\n",
      "Requirement already satisfied: python-dateutil>=2.7 in /Users/hovakim_grabski/GitSync/CIP_schools/sdsc-summer-institute-2024/.conda/lib/python3.11/site-packages (from matplotlib>=3.0.1->pyvista[jupyter]) (2.9.0)\n",
      "Collecting wslink<3,>=2 (from trame-server>=2.11.7->pyvista[jupyter])\n",
      "  Downloading wslink-2.1.1-py3-none-any.whl.metadata (3.1 kB)\n",
      "Collecting more-itertools (from trame-server>=2.11.7->pyvista[jupyter])\n",
      "  Downloading more_itertools-10.4.0-py3-none-any.whl.metadata (36 kB)\n",
      "Requirement already satisfied: comm>=0.1.3 in /Users/hovakim_grabski/GitSync/CIP_schools/sdsc-summer-institute-2024/.conda/lib/python3.11/site-packages (from ipywidgets->pyvista[jupyter]) (0.2.2)\n",
      "Requirement already satisfied: ipython>=6.1.0 in /Users/hovakim_grabski/GitSync/CIP_schools/sdsc-summer-institute-2024/.conda/lib/python3.11/site-packages (from ipywidgets->pyvista[jupyter]) (8.26.0)\n",
      "Requirement already satisfied: traitlets>=4.3.1 in /Users/hovakim_grabski/GitSync/CIP_schools/sdsc-summer-institute-2024/.conda/lib/python3.11/site-packages (from ipywidgets->pyvista[jupyter]) (5.14.3)\n",
      "Collecting widgetsnbextension~=4.0.11 (from ipywidgets->pyvista[jupyter])\n",
      "  Downloading widgetsnbextension-4.0.11-py3-none-any.whl.metadata (1.6 kB)\n",
      "Collecting jupyterlab-widgets~=3.0.11 (from ipywidgets->pyvista[jupyter])\n",
      "  Downloading jupyterlab_widgets-3.0.11-py3-none-any.whl.metadata (4.1 kB)\n",
      "Collecting aiohttp (from jupyter-server-proxy->pyvista[jupyter])\n",
      "  Downloading aiohttp-3.10.1-cp311-cp311-macosx_11_0_arm64.whl.metadata (7.5 kB)\n",
      "Collecting jupyter-server>=1.24.0 (from jupyter-server-proxy->pyvista[jupyter])\n",
      "  Downloading jupyter_server-2.14.2-py3-none-any.whl.metadata (8.4 kB)\n",
      "Collecting simpervisor>=1.0.0 (from jupyter-server-proxy->pyvista[jupyter])\n",
      "  Downloading simpervisor-1.0.0-py3-none-any.whl.metadata (4.3 kB)\n",
      "Requirement already satisfied: tornado>=6.1.0 in /Users/hovakim_grabski/GitSync/CIP_schools/sdsc-summer-institute-2024/.conda/lib/python3.11/site-packages (from jupyter-server-proxy->pyvista[jupyter]) (6.4.1)\n",
      "Requirement already satisfied: platformdirs>=2.5.0 in /Users/hovakim_grabski/GitSync/CIP_schools/sdsc-summer-institute-2024/.conda/lib/python3.11/site-packages (from pooch->pyvista[jupyter]) (4.2.2)\n",
      "Requirement already satisfied: requests>=2.19.0 in /Users/hovakim_grabski/GitSync/CIP_schools/sdsc-summer-institute-2024/.conda/lib/python3.11/site-packages (from pooch->pyvista[jupyter]) (2.32.3)\n",
      "Requirement already satisfied: decorator in /Users/hovakim_grabski/GitSync/CIP_schools/sdsc-summer-institute-2024/.conda/lib/python3.11/site-packages (from ipython>=6.1.0->ipywidgets->pyvista[jupyter]) (5.1.1)\n",
      "Requirement already satisfied: jedi>=0.16 in /Users/hovakim_grabski/GitSync/CIP_schools/sdsc-summer-institute-2024/.conda/lib/python3.11/site-packages (from ipython>=6.1.0->ipywidgets->pyvista[jupyter]) (0.19.1)\n",
      "Requirement already satisfied: matplotlib-inline in /Users/hovakim_grabski/GitSync/CIP_schools/sdsc-summer-institute-2024/.conda/lib/python3.11/site-packages (from ipython>=6.1.0->ipywidgets->pyvista[jupyter]) (0.1.7)\n",
      "Requirement already satisfied: prompt-toolkit<3.1.0,>=3.0.41 in /Users/hovakim_grabski/GitSync/CIP_schools/sdsc-summer-institute-2024/.conda/lib/python3.11/site-packages (from ipython>=6.1.0->ipywidgets->pyvista[jupyter]) (3.0.47)\n",
      "Requirement already satisfied: pygments>=2.4.0 in /Users/hovakim_grabski/GitSync/CIP_schools/sdsc-summer-institute-2024/.conda/lib/python3.11/site-packages (from ipython>=6.1.0->ipywidgets->pyvista[jupyter]) (2.18.0)\n",
      "Requirement already satisfied: stack-data in /Users/hovakim_grabski/GitSync/CIP_schools/sdsc-summer-institute-2024/.conda/lib/python3.11/site-packages (from ipython>=6.1.0->ipywidgets->pyvista[jupyter]) (0.6.2)\n",
      "Requirement already satisfied: pexpect>4.3 in /Users/hovakim_grabski/GitSync/CIP_schools/sdsc-summer-institute-2024/.conda/lib/python3.11/site-packages (from ipython>=6.1.0->ipywidgets->pyvista[jupyter]) (4.9.0)\n",
      "Collecting anyio>=3.1.0 (from jupyter-server>=1.24.0->jupyter-server-proxy->pyvista[jupyter])\n",
      "  Using cached anyio-4.4.0-py3-none-any.whl.metadata (4.6 kB)\n",
      "Collecting argon2-cffi>=21.1 (from jupyter-server>=1.24.0->jupyter-server-proxy->pyvista[jupyter])\n",
      "  Downloading argon2_cffi-23.1.0-py3-none-any.whl.metadata (5.2 kB)\n",
      "Collecting jinja2>=3.0.3 (from jupyter-server>=1.24.0->jupyter-server-proxy->pyvista[jupyter])\n",
      "  Using cached jinja2-3.1.4-py3-none-any.whl.metadata (2.6 kB)\n",
      "Requirement already satisfied: jupyter-client>=7.4.4 in /Users/hovakim_grabski/GitSync/CIP_schools/sdsc-summer-institute-2024/.conda/lib/python3.11/site-packages (from jupyter-server>=1.24.0->jupyter-server-proxy->pyvista[jupyter]) (8.6.2)\n",
      "Requirement already satisfied: jupyter-core!=5.0.*,>=4.12 in /Users/hovakim_grabski/GitSync/CIP_schools/sdsc-summer-institute-2024/.conda/lib/python3.11/site-packages (from jupyter-server>=1.24.0->jupyter-server-proxy->pyvista[jupyter]) (5.7.2)\n",
      "Collecting jupyter-events>=0.9.0 (from jupyter-server>=1.24.0->jupyter-server-proxy->pyvista[jupyter])\n",
      "  Downloading jupyter_events-0.10.0-py3-none-any.whl.metadata (5.9 kB)\n",
      "Collecting jupyter-server-terminals>=0.4.4 (from jupyter-server>=1.24.0->jupyter-server-proxy->pyvista[jupyter])\n",
      "  Downloading jupyter_server_terminals-0.5.3-py3-none-any.whl.metadata (5.6 kB)\n",
      "Collecting nbconvert>=6.4.4 (from jupyter-server>=1.24.0->jupyter-server-proxy->pyvista[jupyter])\n",
      "  Downloading nbconvert-7.16.4-py3-none-any.whl.metadata (8.5 kB)\n",
      "Collecting nbformat>=5.3.0 (from jupyter-server>=1.24.0->jupyter-server-proxy->pyvista[jupyter])\n",
      "  Downloading nbformat-5.10.4-py3-none-any.whl.metadata (3.6 kB)\n",
      "Collecting overrides>=5.0 (from jupyter-server>=1.24.0->jupyter-server-proxy->pyvista[jupyter])\n",
      "  Using cached overrides-7.7.0-py3-none-any.whl.metadata (5.8 kB)\n",
      "Collecting prometheus-client>=0.9 (from jupyter-server>=1.24.0->jupyter-server-proxy->pyvista[jupyter])\n",
      "  Downloading prometheus_client-0.20.0-py3-none-any.whl.metadata (1.8 kB)\n",
      "Requirement already satisfied: pyzmq>=24 in /Users/hovakim_grabski/GitSync/CIP_schools/sdsc-summer-institute-2024/.conda/lib/python3.11/site-packages (from jupyter-server>=1.24.0->jupyter-server-proxy->pyvista[jupyter]) (25.1.2)\n",
      "Collecting send2trash>=1.8.2 (from jupyter-server>=1.24.0->jupyter-server-proxy->pyvista[jupyter])\n",
      "  Downloading Send2Trash-1.8.3-py3-none-any.whl.metadata (4.0 kB)\n",
      "Collecting terminado>=0.8.3 (from jupyter-server>=1.24.0->jupyter-server-proxy->pyvista[jupyter])\n",
      "  Downloading terminado-0.18.1-py3-none-any.whl.metadata (5.8 kB)\n",
      "Collecting websocket-client>=1.7 (from jupyter-server>=1.24.0->jupyter-server-proxy->pyvista[jupyter])\n",
      "  Using cached websocket_client-1.8.0-py3-none-any.whl.metadata (8.0 kB)\n",
      "Requirement already satisfied: six>=1.5 in /Users/hovakim_grabski/GitSync/CIP_schools/sdsc-summer-institute-2024/.conda/lib/python3.11/site-packages (from python-dateutil>=2.7->matplotlib>=3.0.1->pyvista[jupyter]) (1.16.0)\n",
      "Requirement already satisfied: charset-normalizer<4,>=2 in /Users/hovakim_grabski/GitSync/CIP_schools/sdsc-summer-institute-2024/.conda/lib/python3.11/site-packages (from requests>=2.19.0->pooch->pyvista[jupyter]) (3.3.2)\n",
      "Requirement already satisfied: idna<4,>=2.5 in /Users/hovakim_grabski/GitSync/CIP_schools/sdsc-summer-institute-2024/.conda/lib/python3.11/site-packages (from requests>=2.19.0->pooch->pyvista[jupyter]) (3.7)\n",
      "Requirement already satisfied: urllib3<3,>=1.21.1 in /Users/hovakim_grabski/GitSync/CIP_schools/sdsc-summer-institute-2024/.conda/lib/python3.11/site-packages (from requests>=2.19.0->pooch->pyvista[jupyter]) (2.2.2)\n",
      "Requirement already satisfied: certifi>=2017.4.17 in /Users/hovakim_grabski/GitSync/CIP_schools/sdsc-summer-institute-2024/.conda/lib/python3.11/site-packages (from requests>=2.19.0->pooch->pyvista[jupyter]) (2024.7.4)\n",
      "Collecting msgpack<2,>=1 (from wslink<3,>=2->trame-server>=2.11.7->pyvista[jupyter])\n",
      "  Downloading msgpack-1.0.8-cp311-cp311-macosx_11_0_arm64.whl.metadata (9.1 kB)\n",
      "Collecting aiohappyeyeballs>=2.3.0 (from aiohttp->jupyter-server-proxy->pyvista[jupyter])\n",
      "  Downloading aiohappyeyeballs-2.3.5-py3-none-any.whl.metadata (5.8 kB)\n",
      "Collecting aiosignal>=1.1.2 (from aiohttp->jupyter-server-proxy->pyvista[jupyter])\n",
      "  Using cached aiosignal-1.3.1-py3-none-any.whl.metadata (4.0 kB)\n",
      "Collecting attrs>=17.3.0 (from aiohttp->jupyter-server-proxy->pyvista[jupyter])\n",
      "  Downloading attrs-24.2.0-py3-none-any.whl.metadata (11 kB)\n",
      "Collecting frozenlist>=1.1.1 (from aiohttp->jupyter-server-proxy->pyvista[jupyter])\n",
      "  Downloading frozenlist-1.4.1-cp311-cp311-macosx_11_0_arm64.whl.metadata (12 kB)\n",
      "Collecting multidict<7.0,>=4.5 (from aiohttp->jupyter-server-proxy->pyvista[jupyter])\n",
      "  Downloading multidict-6.0.5-cp311-cp311-macosx_11_0_arm64.whl.metadata (4.2 kB)\n",
      "Collecting yarl<2.0,>=1.0 (from aiohttp->jupyter-server-proxy->pyvista[jupyter])\n",
      "  Downloading yarl-1.9.4-cp311-cp311-macosx_11_0_arm64.whl.metadata (31 kB)\n",
      "Collecting sniffio>=1.1 (from anyio>=3.1.0->jupyter-server>=1.24.0->jupyter-server-proxy->pyvista[jupyter])\n",
      "  Using cached sniffio-1.3.1-py3-none-any.whl.metadata (3.9 kB)\n",
      "Collecting argon2-cffi-bindings (from argon2-cffi>=21.1->jupyter-server>=1.24.0->jupyter-server-proxy->pyvista[jupyter])\n",
      "  Downloading argon2_cffi_bindings-21.2.0-cp38-abi3-macosx_10_9_universal2.whl.metadata (6.7 kB)\n",
      "Requirement already satisfied: parso<0.9.0,>=0.8.3 in /Users/hovakim_grabski/GitSync/CIP_schools/sdsc-summer-institute-2024/.conda/lib/python3.11/site-packages (from jedi>=0.16->ipython>=6.1.0->ipywidgets->pyvista[jupyter]) (0.8.4)\n",
      "Collecting MarkupSafe>=2.0 (from jinja2>=3.0.3->jupyter-server>=1.24.0->jupyter-server-proxy->pyvista[jupyter])\n",
      "  Downloading MarkupSafe-2.1.5-cp311-cp311-macosx_10_9_universal2.whl.metadata (3.0 kB)\n",
      "Collecting jsonschema>=4.18.0 (from jsonschema[format-nongpl]>=4.18.0->jupyter-events>=0.9.0->jupyter-server>=1.24.0->jupyter-server-proxy->pyvista[jupyter])\n",
      "  Downloading jsonschema-4.23.0-py3-none-any.whl.metadata (7.9 kB)\n",
      "Collecting python-json-logger>=2.0.4 (from jupyter-events>=0.9.0->jupyter-server>=1.24.0->jupyter-server-proxy->pyvista[jupyter])\n",
      "  Downloading python_json_logger-2.0.7-py3-none-any.whl.metadata (6.5 kB)\n",
      "Collecting pyyaml>=5.3 (from jupyter-events>=0.9.0->jupyter-server>=1.24.0->jupyter-server-proxy->pyvista[jupyter])\n",
      "  Downloading PyYAML-6.0.2-cp311-cp311-macosx_11_0_arm64.whl.metadata (2.1 kB)\n",
      "Collecting referencing (from jupyter-events>=0.9.0->jupyter-server>=1.24.0->jupyter-server-proxy->pyvista[jupyter])\n",
      "  Using cached referencing-0.35.1-py3-none-any.whl.metadata (2.8 kB)\n",
      "Collecting rfc3339-validator (from jupyter-events>=0.9.0->jupyter-server>=1.24.0->jupyter-server-proxy->pyvista[jupyter])\n",
      "  Downloading rfc3339_validator-0.1.4-py2.py3-none-any.whl.metadata (1.5 kB)\n",
      "Collecting rfc3986-validator>=0.1.1 (from jupyter-events>=0.9.0->jupyter-server>=1.24.0->jupyter-server-proxy->pyvista[jupyter])\n",
      "  Downloading rfc3986_validator-0.1.1-py2.py3-none-any.whl.metadata (1.7 kB)\n",
      "Collecting beautifulsoup4 (from nbconvert>=6.4.4->jupyter-server>=1.24.0->jupyter-server-proxy->pyvista[jupyter])\n",
      "  Using cached beautifulsoup4-4.12.3-py3-none-any.whl.metadata (3.8 kB)\n",
      "Collecting bleach!=5.0.0 (from nbconvert>=6.4.4->jupyter-server>=1.24.0->jupyter-server-proxy->pyvista[jupyter])\n",
      "  Downloading bleach-6.1.0-py3-none-any.whl.metadata (30 kB)\n",
      "Collecting defusedxml (from nbconvert>=6.4.4->jupyter-server>=1.24.0->jupyter-server-proxy->pyvista[jupyter])\n",
      "  Downloading defusedxml-0.7.1-py2.py3-none-any.whl.metadata (32 kB)\n",
      "Collecting jupyterlab-pygments (from nbconvert>=6.4.4->jupyter-server>=1.24.0->jupyter-server-proxy->pyvista[jupyter])\n",
      "  Downloading jupyterlab_pygments-0.3.0-py3-none-any.whl.metadata (4.4 kB)\n",
      "Collecting mistune<4,>=2.0.3 (from nbconvert>=6.4.4->jupyter-server>=1.24.0->jupyter-server-proxy->pyvista[jupyter])\n",
      "  Downloading mistune-3.0.2-py3-none-any.whl.metadata (1.7 kB)\n",
      "Collecting nbclient>=0.5.0 (from nbconvert>=6.4.4->jupyter-server>=1.24.0->jupyter-server-proxy->pyvista[jupyter])\n",
      "  Downloading nbclient-0.10.0-py3-none-any.whl.metadata (7.8 kB)\n",
      "Collecting pandocfilters>=1.4.1 (from nbconvert>=6.4.4->jupyter-server>=1.24.0->jupyter-server-proxy->pyvista[jupyter])\n",
      "  Downloading pandocfilters-1.5.1-py2.py3-none-any.whl.metadata (9.0 kB)\n",
      "Collecting tinycss2 (from nbconvert>=6.4.4->jupyter-server>=1.24.0->jupyter-server-proxy->pyvista[jupyter])\n",
      "  Downloading tinycss2-1.3.0-py3-none-any.whl.metadata (3.0 kB)\n",
      "Collecting fastjsonschema>=2.15 (from nbformat>=5.3.0->jupyter-server>=1.24.0->jupyter-server-proxy->pyvista[jupyter])\n",
      "  Downloading fastjsonschema-2.20.0-py3-none-any.whl.metadata (2.1 kB)\n",
      "Requirement already satisfied: ptyprocess>=0.5 in /Users/hovakim_grabski/GitSync/CIP_schools/sdsc-summer-institute-2024/.conda/lib/python3.11/site-packages (from pexpect>4.3->ipython>=6.1.0->ipywidgets->pyvista[jupyter]) (0.7.0)\n",
      "Requirement already satisfied: wcwidth in /Users/hovakim_grabski/GitSync/CIP_schools/sdsc-summer-institute-2024/.conda/lib/python3.11/site-packages (from prompt-toolkit<3.1.0,>=3.0.41->ipython>=6.1.0->ipywidgets->pyvista[jupyter]) (0.2.13)\n",
      "Requirement already satisfied: executing>=1.2.0 in /Users/hovakim_grabski/GitSync/CIP_schools/sdsc-summer-institute-2024/.conda/lib/python3.11/site-packages (from stack-data->ipython>=6.1.0->ipywidgets->pyvista[jupyter]) (2.0.1)\n",
      "Requirement already satisfied: asttokens>=2.1.0 in /Users/hovakim_grabski/GitSync/CIP_schools/sdsc-summer-institute-2024/.conda/lib/python3.11/site-packages (from stack-data->ipython>=6.1.0->ipywidgets->pyvista[jupyter]) (2.4.1)\n",
      "Requirement already satisfied: pure-eval in /Users/hovakim_grabski/GitSync/CIP_schools/sdsc-summer-institute-2024/.conda/lib/python3.11/site-packages (from stack-data->ipython>=6.1.0->ipywidgets->pyvista[jupyter]) (0.2.3)\n",
      "Collecting webencodings (from bleach!=5.0.0->nbconvert>=6.4.4->jupyter-server>=1.24.0->jupyter-server-proxy->pyvista[jupyter])\n",
      "  Downloading webencodings-0.5.1-py2.py3-none-any.whl.metadata (2.1 kB)\n",
      "Collecting jsonschema-specifications>=2023.03.6 (from jsonschema>=4.18.0->jsonschema[format-nongpl]>=4.18.0->jupyter-events>=0.9.0->jupyter-server>=1.24.0->jupyter-server-proxy->pyvista[jupyter])\n",
      "  Using cached jsonschema_specifications-2023.12.1-py3-none-any.whl.metadata (3.0 kB)\n",
      "Collecting rpds-py>=0.7.1 (from jsonschema>=4.18.0->jsonschema[format-nongpl]>=4.18.0->jupyter-events>=0.9.0->jupyter-server>=1.24.0->jupyter-server-proxy->pyvista[jupyter])\n",
      "  Downloading rpds_py-0.20.0-cp311-cp311-macosx_11_0_arm64.whl.metadata (4.2 kB)\n",
      "Collecting fqdn (from jsonschema[format-nongpl]>=4.18.0->jupyter-events>=0.9.0->jupyter-server>=1.24.0->jupyter-server-proxy->pyvista[jupyter])\n",
      "  Downloading fqdn-1.5.1-py3-none-any.whl.metadata (1.4 kB)\n",
      "Collecting isoduration (from jsonschema[format-nongpl]>=4.18.0->jupyter-events>=0.9.0->jupyter-server>=1.24.0->jupyter-server-proxy->pyvista[jupyter])\n",
      "  Downloading isoduration-20.11.0-py3-none-any.whl.metadata (5.7 kB)\n",
      "Collecting jsonpointer>1.13 (from jsonschema[format-nongpl]>=4.18.0->jupyter-events>=0.9.0->jupyter-server>=1.24.0->jupyter-server-proxy->pyvista[jupyter])\n",
      "  Using cached jsonpointer-3.0.0-py2.py3-none-any.whl.metadata (2.3 kB)\n",
      "Collecting uri-template (from jsonschema[format-nongpl]>=4.18.0->jupyter-events>=0.9.0->jupyter-server>=1.24.0->jupyter-server-proxy->pyvista[jupyter])\n",
      "  Downloading uri_template-1.3.0-py3-none-any.whl.metadata (8.8 kB)\n",
      "Collecting webcolors>=24.6.0 (from jsonschema[format-nongpl]>=4.18.0->jupyter-events>=0.9.0->jupyter-server>=1.24.0->jupyter-server-proxy->pyvista[jupyter])\n",
      "  Downloading webcolors-24.6.0-py3-none-any.whl.metadata (2.6 kB)\n",
      "Collecting cffi>=1.0.1 (from argon2-cffi-bindings->argon2-cffi>=21.1->jupyter-server>=1.24.0->jupyter-server-proxy->pyvista[jupyter])\n",
      "  Downloading cffi-1.17.0-cp311-cp311-macosx_11_0_arm64.whl.metadata (1.5 kB)\n",
      "Collecting soupsieve>1.2 (from beautifulsoup4->nbconvert>=6.4.4->jupyter-server>=1.24.0->jupyter-server-proxy->pyvista[jupyter])\n",
      "  Using cached soupsieve-2.5-py3-none-any.whl.metadata (4.7 kB)\n",
      "Collecting pycparser (from cffi>=1.0.1->argon2-cffi-bindings->argon2-cffi>=21.1->jupyter-server>=1.24.0->jupyter-server-proxy->pyvista[jupyter])\n",
      "  Using cached pycparser-2.22-py3-none-any.whl.metadata (943 bytes)\n",
      "Collecting arrow>=0.15.0 (from isoduration->jsonschema[format-nongpl]>=4.18.0->jupyter-events>=0.9.0->jupyter-server>=1.24.0->jupyter-server-proxy->pyvista[jupyter])\n",
      "  Downloading arrow-1.3.0-py3-none-any.whl.metadata (7.5 kB)\n",
      "Collecting types-python-dateutil>=2.8.10 (from arrow>=0.15.0->isoduration->jsonschema[format-nongpl]>=4.18.0->jupyter-events>=0.9.0->jupyter-server>=1.24.0->jupyter-server-proxy->pyvista[jupyter])\n",
      "  Downloading types_python_dateutil-2.9.0.20240316-py3-none-any.whl.metadata (1.8 kB)\n",
      "Downloading trame-3.6.3-py3-none-any.whl (30 kB)\n",
      "Downloading trame_client-3.2.1-py3-none-any.whl (233 kB)\n",
      "\u001b[2K   \u001b[90m━━━━━━━━━━━━━━━━━━━━━━━━━━━━━━━━━━━━━━━━\u001b[0m \u001b[32m233.9/233.9 kB\u001b[0m \u001b[31m4.3 MB/s\u001b[0m eta \u001b[36m0:00:00\u001b[0mta \u001b[36m0:00:01\u001b[0m\n",
      "\u001b[?25hDownloading trame_server-3.0.3-py3-none-any.whl (36 kB)\n",
      "Downloading trame_vtk-2.8.10-py3-none-any.whl (747 kB)\n",
      "\u001b[2K   \u001b[90m━━━━━━━━━━━━━━━━━━━━━━━━━━━━━━━━━━━━━━━━\u001b[0m \u001b[32m747.5/747.5 kB\u001b[0m \u001b[31m4.6 MB/s\u001b[0m eta \u001b[36m0:00:00\u001b[0ma \u001b[36m0:00:01\u001b[0m\n",
      "\u001b[?25hDownloading trame_vuetify-2.6.2-py3-none-any.whl (4.4 MB)\n",
      "\u001b[2K   \u001b[90m━━━━━━━━━━━━━━━━━━━━━━━━━━━━━━━━━━━━━━━━\u001b[0m \u001b[32m4.4/4.4 MB\u001b[0m \u001b[31m3.8 MB/s\u001b[0m eta \u001b[36m0:00:00\u001b[0m00:01\u001b[0m00:01\u001b[0mm\n",
      "\u001b[?25hDownloading ipywidgets-8.1.3-py3-none-any.whl (139 kB)\n",
      "\u001b[2K   \u001b[90m━━━━━━━━━━━━━━━━━━━━━━━━━━━━━━━━━━━━━━━━\u001b[0m \u001b[32m139.4/139.4 kB\u001b[0m \u001b[31m3.4 MB/s\u001b[0m eta \u001b[36m0:00:00\u001b[0ma \u001b[36m0:00:01\u001b[0m\n",
      "\u001b[?25hDownloading jupyter_server_proxy-4.3.0-py3-none-any.whl (36 kB)\n",
      "Downloading jupyter_server-2.14.2-py3-none-any.whl (383 kB)\n",
      "\u001b[2K   \u001b[90m━━━━━━━━━━━━━━━━━━━━━━━━━━━━━━━━━━━━━━━━\u001b[0m \u001b[32m383.6/383.6 kB\u001b[0m \u001b[31m3.9 MB/s\u001b[0m eta \u001b[36m0:00:00\u001b[0ma \u001b[36m0:00:01\u001b[0mm\n",
      "\u001b[?25hDownloading jupyterlab_widgets-3.0.11-py3-none-any.whl (214 kB)\n",
      "\u001b[2K   \u001b[90m━━━━━━━━━━━━━━━━━━━━━━━━━━━━━━━━━━━━━━━━\u001b[0m \u001b[32m214.4/214.4 kB\u001b[0m \u001b[31m3.1 MB/s\u001b[0m eta \u001b[36m0:00:00\u001b[0ma \u001b[36m0:00:01\u001b[0mm\n",
      "\u001b[?25hDownloading simpervisor-1.0.0-py3-none-any.whl (8.3 kB)\n",
      "Downloading widgetsnbextension-4.0.11-py3-none-any.whl (2.3 MB)\n",
      "\u001b[2K   \u001b[90m━━━━━━━━━━━━━━━━━━━━━━━━━━━━━━━━━━━━━━━━\u001b[0m \u001b[32m2.3/2.3 MB\u001b[0m \u001b[31m3.8 MB/s\u001b[0m eta \u001b[36m0:00:00\u001b[0m00:01\u001b[0m00:01\u001b[0mm\n",
      "\u001b[?25hDownloading wslink-2.1.1-py3-none-any.whl (35 kB)\n",
      "Downloading aiohttp-3.10.1-cp311-cp311-macosx_11_0_arm64.whl (385 kB)\n",
      "\u001b[2K   \u001b[90m━━━━━━━━━━━━━━━━━━━━━━━━━━━━━━━━━━━━━━━━\u001b[0m \u001b[32m385.1/385.1 kB\u001b[0m \u001b[31m3.4 MB/s\u001b[0m eta \u001b[36m0:00:00\u001b[0ma \u001b[36m0:00:01\u001b[0m\n",
      "\u001b[?25hDownloading more_itertools-10.4.0-py3-none-any.whl (60 kB)\n",
      "\u001b[2K   \u001b[90m━━━━━━━━━━━━━━━━━━━━━━━━━━━━━━━━━━━━━━━━\u001b[0m \u001b[32m60.9/60.9 kB\u001b[0m \u001b[31m6.1 MB/s\u001b[0m eta \u001b[36m0:00:00\u001b[0m\n",
      "\u001b[?25hDownloading aiohappyeyeballs-2.3.5-py3-none-any.whl (12 kB)\n",
      "Using cached aiosignal-1.3.1-py3-none-any.whl (7.6 kB)\n",
      "Using cached anyio-4.4.0-py3-none-any.whl (86 kB)\n",
      "Downloading argon2_cffi-23.1.0-py3-none-any.whl (15 kB)\n",
      "Downloading attrs-24.2.0-py3-none-any.whl (63 kB)\n",
      "\u001b[2K   \u001b[90m━━━━━━━━━━━━━━━━━━━━━━━━━━━━━━━━━━━━━━━━\u001b[0m \u001b[32m63.0/63.0 kB\u001b[0m \u001b[31m7.3 MB/s\u001b[0m eta \u001b[36m0:00:00\u001b[0m\n",
      "\u001b[?25hDownloading frozenlist-1.4.1-cp311-cp311-macosx_11_0_arm64.whl (53 kB)\n",
      "\u001b[2K   \u001b[90m━━━━━━━━━━━━━━━━━━━━━━━━━━━━━━━━━━━━━━━━\u001b[0m \u001b[32m53.4/53.4 kB\u001b[0m \u001b[31m4.5 MB/s\u001b[0m eta \u001b[36m0:00:00\u001b[0m\n",
      "\u001b[?25hUsing cached jinja2-3.1.4-py3-none-any.whl (133 kB)\n",
      "Downloading jupyter_events-0.10.0-py3-none-any.whl (18 kB)\n",
      "Downloading jupyter_server_terminals-0.5.3-py3-none-any.whl (13 kB)\n",
      "Downloading msgpack-1.0.8-cp311-cp311-macosx_11_0_arm64.whl (84 kB)\n",
      "\u001b[2K   \u001b[90m━━━━━━━━━━━━━━━━━━━━━━━━━━━━━━━━━━━━━━━━\u001b[0m \u001b[32m84.9/84.9 kB\u001b[0m \u001b[31m8.3 MB/s\u001b[0m eta \u001b[36m0:00:00\u001b[0m\n",
      "\u001b[?25hDownloading multidict-6.0.5-cp311-cp311-macosx_11_0_arm64.whl (30 kB)\n",
      "Downloading nbconvert-7.16.4-py3-none-any.whl (257 kB)\n",
      "\u001b[2K   \u001b[90m━━━━━━━━━━━━━━━━━━━━━━━━━━━━━━━━━━━━━━━━\u001b[0m \u001b[32m257.4/257.4 kB\u001b[0m \u001b[31m3.6 MB/s\u001b[0m eta \u001b[36m0:00:00\u001b[0ma \u001b[36m0:00:01\u001b[0m\n",
      "\u001b[?25hDownloading nbformat-5.10.4-py3-none-any.whl (78 kB)\n",
      "\u001b[2K   \u001b[90m━━━━━━━━━━━━━━━━━━━━━━━━━━━━━━━━━━━━━━━━\u001b[0m \u001b[32m78.5/78.5 kB\u001b[0m \u001b[31m9.0 MB/s\u001b[0m eta \u001b[36m0:00:00\u001b[0m\n",
      "\u001b[?25hUsing cached overrides-7.7.0-py3-none-any.whl (17 kB)\n",
      "Downloading prometheus_client-0.20.0-py3-none-any.whl (54 kB)\n",
      "\u001b[2K   \u001b[90m━━━━━━━━━━━━━━━━━━━━━━━━━━━━━━━━━━━━━━━━\u001b[0m \u001b[32m54.5/54.5 kB\u001b[0m \u001b[31m6.8 MB/s\u001b[0m eta \u001b[36m0:00:00\u001b[0m\n",
      "\u001b[?25hDownloading Send2Trash-1.8.3-py3-none-any.whl (18 kB)\n",
      "Downloading terminado-0.18.1-py3-none-any.whl (14 kB)\n",
      "Using cached websocket_client-1.8.0-py3-none-any.whl (58 kB)\n",
      "Downloading yarl-1.9.4-cp311-cp311-macosx_11_0_arm64.whl (81 kB)\n",
      "\u001b[2K   \u001b[90m━━━━━━━━━━━━━━━━━━━━━━━━━━━━━━━━━━━━━━━━\u001b[0m \u001b[32m81.2/81.2 kB\u001b[0m \u001b[31m8.1 MB/s\u001b[0m eta \u001b[36m0:00:00\u001b[0m\n",
      "\u001b[?25hDownloading bleach-6.1.0-py3-none-any.whl (162 kB)\n",
      "\u001b[2K   \u001b[90m━━━━━━━━━━━━━━━━━━━━━━━━━━━━━━━━━━━━━━━━\u001b[0m \u001b[32m162.8/162.8 kB\u001b[0m \u001b[31m9.7 MB/s\u001b[0m eta \u001b[36m0:00:00\u001b[0m\n",
      "\u001b[?25hDownloading fastjsonschema-2.20.0-py3-none-any.whl (23 kB)\n",
      "Downloading jsonschema-4.23.0-py3-none-any.whl (88 kB)\n",
      "\u001b[2K   \u001b[90m━━━━━━━━━━━━━━━━━━━━━━━━━━━━━━━━━━━━━━━━\u001b[0m \u001b[32m88.5/88.5 kB\u001b[0m \u001b[31m1.2 MB/s\u001b[0m eta \u001b[36m0:00:00\u001b[0ma \u001b[36m0:00:01\u001b[0m\n",
      "\u001b[?25hDownloading MarkupSafe-2.1.5-cp311-cp311-macosx_10_9_universal2.whl (18 kB)\n",
      "Downloading mistune-3.0.2-py3-none-any.whl (47 kB)\n",
      "\u001b[2K   \u001b[90m━━━━━━━━━━━━━━━━━━━━━━━━━━━━━━━━━━━━━━━━\u001b[0m \u001b[32m48.0/48.0 kB\u001b[0m \u001b[31m5.1 MB/s\u001b[0m eta \u001b[36m0:00:00\u001b[0m\n",
      "\u001b[?25hDownloading nbclient-0.10.0-py3-none-any.whl (25 kB)\n",
      "Downloading pandocfilters-1.5.1-py2.py3-none-any.whl (8.7 kB)\n",
      "Downloading python_json_logger-2.0.7-py3-none-any.whl (8.1 kB)\n",
      "Downloading PyYAML-6.0.2-cp311-cp311-macosx_11_0_arm64.whl (172 kB)\n",
      "\u001b[2K   \u001b[90m━━━━━━━━━━━━━━━━━━━━━━━━━━━━━━━━━━━━━━━━\u001b[0m \u001b[32m172.0/172.0 kB\u001b[0m \u001b[31m3.6 MB/s\u001b[0m eta \u001b[36m0:00:00\u001b[0mta \u001b[36m0:00:01\u001b[0m\n",
      "\u001b[?25hUsing cached referencing-0.35.1-py3-none-any.whl (26 kB)\n",
      "Downloading rfc3986_validator-0.1.1-py2.py3-none-any.whl (4.2 kB)\n",
      "Using cached sniffio-1.3.1-py3-none-any.whl (10 kB)\n",
      "Downloading argon2_cffi_bindings-21.2.0-cp38-abi3-macosx_10_9_universal2.whl (53 kB)\n",
      "\u001b[2K   \u001b[90m━━━━━━━━━━━━━━━━━━━━━━━━━━━━━━━━━━━━━━━━\u001b[0m \u001b[32m53.1/53.1 kB\u001b[0m \u001b[31m5.9 MB/s\u001b[0m eta \u001b[36m0:00:00\u001b[0m\n",
      "\u001b[?25hUsing cached beautifulsoup4-4.12.3-py3-none-any.whl (147 kB)\n",
      "Downloading defusedxml-0.7.1-py2.py3-none-any.whl (25 kB)\n",
      "Downloading jupyterlab_pygments-0.3.0-py3-none-any.whl (15 kB)\n",
      "Downloading rfc3339_validator-0.1.4-py2.py3-none-any.whl (3.5 kB)\n",
      "Downloading tinycss2-1.3.0-py3-none-any.whl (22 kB)\n",
      "Downloading cffi-1.17.0-cp311-cp311-macosx_11_0_arm64.whl (178 kB)\n",
      "\u001b[2K   \u001b[90m━━━━━━━━━━━━━━━━━━━━━━━━━━━━━━━━━━━━━━━━\u001b[0m \u001b[32m178.3/178.3 kB\u001b[0m \u001b[31m4.8 MB/s\u001b[0m eta \u001b[36m0:00:00\u001b[0m\n",
      "\u001b[?25hUsing cached jsonpointer-3.0.0-py2.py3-none-any.whl (7.6 kB)\n",
      "Using cached jsonschema_specifications-2023.12.1-py3-none-any.whl (18 kB)\n",
      "Downloading rpds_py-0.20.0-cp311-cp311-macosx_11_0_arm64.whl (311 kB)\n",
      "\u001b[2K   \u001b[90m━━━━━━━━━━━━━━━━━━━━━━━━━━━━━━━━━━━━━━━━\u001b[0m \u001b[32m311.3/311.3 kB\u001b[0m \u001b[31m2.9 MB/s\u001b[0m eta \u001b[36m0:00:00\u001b[0ma \u001b[36m0:00:01\u001b[0mm\n",
      "\u001b[?25hUsing cached soupsieve-2.5-py3-none-any.whl (36 kB)\n",
      "Downloading webcolors-24.6.0-py3-none-any.whl (14 kB)\n",
      "Downloading webencodings-0.5.1-py2.py3-none-any.whl (11 kB)\n",
      "Downloading fqdn-1.5.1-py3-none-any.whl (9.1 kB)\n",
      "Downloading isoduration-20.11.0-py3-none-any.whl (11 kB)\n",
      "Downloading uri_template-1.3.0-py3-none-any.whl (11 kB)\n",
      "Downloading arrow-1.3.0-py3-none-any.whl (66 kB)\n",
      "\u001b[2K   \u001b[90m━━━━━━━━━━━━━━━━━━━━━━━━━━━━━━━━━━━━━━━━\u001b[0m \u001b[32m66.4/66.4 kB\u001b[0m \u001b[31m3.6 MB/s\u001b[0m eta \u001b[36m0:00:00\u001b[0m\n",
      "\u001b[?25hUsing cached pycparser-2.22-py3-none-any.whl (117 kB)\n",
      "Downloading types_python_dateutil-2.9.0.20240316-py3-none-any.whl (9.7 kB)\n",
      "Installing collected packages: webencodings, trame-client, fastjsonschema, widgetsnbextension, websocket-client, webcolors, uri-template, types-python-dateutil, trame-vuetify, trame-vtk, tinycss2, terminado, soupsieve, sniffio, simpervisor, send2trash, rpds-py, rfc3986-validator, rfc3339-validator, pyyaml, python-json-logger, pycparser, prometheus-client, pandocfilters, overrides, multidict, msgpack, more-itertools, mistune, MarkupSafe, jupyterlab-widgets, jupyterlab-pygments, jsonpointer, frozenlist, fqdn, defusedxml, bleach, attrs, aiohappyeyeballs, yarl, referencing, jupyter-server-terminals, jinja2, cffi, beautifulsoup4, arrow, anyio, aiosignal, jsonschema-specifications, isoduration, argon2-cffi-bindings, aiohttp, wslink, jsonschema, ipywidgets, argon2-cffi, trame-server, nbformat, trame, nbclient, jupyter-events, nbconvert, jupyter-server, jupyter-server-proxy\n",
      "Successfully installed MarkupSafe-2.1.5 aiohappyeyeballs-2.3.5 aiohttp-3.10.1 aiosignal-1.3.1 anyio-4.4.0 argon2-cffi-23.1.0 argon2-cffi-bindings-21.2.0 arrow-1.3.0 attrs-24.2.0 beautifulsoup4-4.12.3 bleach-6.1.0 cffi-1.17.0 defusedxml-0.7.1 fastjsonschema-2.20.0 fqdn-1.5.1 frozenlist-1.4.1 ipywidgets-8.1.3 isoduration-20.11.0 jinja2-3.1.4 jsonpointer-3.0.0 jsonschema-4.23.0 jsonschema-specifications-2023.12.1 jupyter-events-0.10.0 jupyter-server-2.14.2 jupyter-server-proxy-4.3.0 jupyter-server-terminals-0.5.3 jupyterlab-pygments-0.3.0 jupyterlab-widgets-3.0.11 mistune-3.0.2 more-itertools-10.4.0 msgpack-1.0.8 multidict-6.0.5 nbclient-0.10.0 nbconvert-7.16.4 nbformat-5.10.4 overrides-7.7.0 pandocfilters-1.5.1 prometheus-client-0.20.0 pycparser-2.22 python-json-logger-2.0.7 pyyaml-6.0.2 referencing-0.35.1 rfc3339-validator-0.1.4 rfc3986-validator-0.1.1 rpds-py-0.20.0 send2trash-1.8.3 simpervisor-1.0.0 sniffio-1.3.1 soupsieve-2.5 terminado-0.18.1 tinycss2-1.3.0 trame-3.6.3 trame-client-3.2.1 trame-server-3.0.3 trame-vtk-2.8.10 trame-vuetify-2.6.2 types-python-dateutil-2.9.0.20240316 uri-template-1.3.0 webcolors-24.6.0 webencodings-0.5.1 websocket-client-1.8.0 widgetsnbextension-4.0.11 wslink-2.1.1 yarl-1.9.4\n"
     ]
    }
   ],
   "source": [
    "!pip install  \"pyvista[jupyter]\""
   ]
  },
  {
   "cell_type": "code",
   "execution_count": 10,
   "id": "4f59f0f6",
   "metadata": {},
   "outputs": [],
   "source": [
    "import numpy as np"
   ]
  },
  {
   "cell_type": "code",
   "execution_count": 11,
   "id": "60ac136c-d749-4508-9be7-77ed89d31fc2",
   "metadata": {},
   "outputs": [
    {
     "data": {
      "text/plain": [
       "'1.26.4'"
      ]
     },
     "execution_count": 11,
     "metadata": {},
     "output_type": "execute_result"
    }
   ],
   "source": [
    "## should be less than 2.0.0 (breaks VTK)\n",
    "np.__version__"
   ]
  },
  {
   "cell_type": "code",
   "execution_count": 12,
   "id": "902a9f7e",
   "metadata": {},
   "outputs": [],
   "source": [
    "from pyvtk import *\n",
    "import pyvista as pv\n",
    "import numpy as np\n",
    "import matplotlib.pyplot as plt\n",
    "import os"
   ]
  },
  {
   "cell_type": "code",
   "execution_count": null,
   "id": "88c8ea84",
   "metadata": {},
   "outputs": [],
   "source": [
    "#VtkData?"
   ]
  },
  {
   "cell_type": "markdown",
   "id": "84fff21e",
   "metadata": {},
   "source": [
    "## Example 1:\n",
    "\n",
    "### PolyData"
   ]
  },
  {
   "cell_type": "markdown",
   "id": "8428670f",
   "metadata": {},
   "source": [
    "#### define dataset:"
   ]
  },
  {
   "cell_type": "code",
   "execution_count": 13,
   "id": "819029ba",
   "metadata": {},
   "outputs": [],
   "source": [
    "structure = PolyData(\n",
    "    points=[[0,0,0],[1,0,0],[1,1,0],[0,1,0],\n",
    "            [0,0,1],[1,0,1],[1,1,1],[0,1,1]],\n",
    "    \n",
    "    \n",
    "    polygons=[[0,1,2,3],[4,5,6,7],[0,1,5,4],\n",
    "            [2,3,7,6],[0,4,7,3],[1,2,6,5]] )"
   ]
  },
  {
   "cell_type": "code",
   "execution_count": 14,
   "id": "a5953469",
   "metadata": {},
   "outputs": [],
   "source": [
    "pointdata = PointData(\n",
    "    Scalars( [0,1,2,3,4,5,6,7],\n",
    "             name='sample_scalars' ) )"
   ]
  },
  {
   "cell_type": "code",
   "execution_count": 15,
   "id": "3cc4c175",
   "metadata": {},
   "outputs": [],
   "source": [
    "celldata = CellData(\n",
    "    Scalars( [0,1,2,3,4,5],\n",
    "             name='cell_scalars'),\n",
    "    \n",
    "    Normals( [[0,0,1],[0,0,1],[0,-1,0],\n",
    "             [0,1,0],[-1,0,0],[1,0,0]],\n",
    "             name='cell_normals'),\n",
    "    \n",
    "    Field( 'FieldData',\n",
    "           cellIds=[[0],[1],[2],[3],[4],[5]] )\n",
    ")"
   ]
  },
  {
   "cell_type": "code",
   "execution_count": 16,
   "id": "bd802033",
   "metadata": {},
   "outputs": [],
   "source": [
    "vtk_dataset_1 = VtkData( structure, pointdata, celldata )"
   ]
  },
  {
   "cell_type": "markdown",
   "id": "39aa80c5",
   "metadata": {},
   "source": [
    "### write dataset to file"
   ]
  },
  {
   "cell_type": "code",
   "execution_count": 17,
   "id": "0bf0ec57",
   "metadata": {},
   "outputs": [],
   "source": [
    "vtk_dataset_1.tofile( 'vtk_example_1a', 'ascii' )\n",
    "vtk_dataset_1.tofile( 'vtk_example_1b', 'binary' )"
   ]
  },
  {
   "cell_type": "markdown",
   "id": "13db28b5",
   "metadata": {},
   "source": [
    "#### Activities:\n",
    "\n",
    "- render with pyvista\n",
    "- experiment with plotting options\n",
    "- open dataset in ParaView\n",
    "- adjust representation type and colormap"
   ]
  },
  {
   "cell_type": "markdown",
   "id": "88168399",
   "metadata": {},
   "source": [
    "## Example 2:\n",
    "\n",
    "### Structured Grid\n",
    "\n",
    "#### explicitly defined point values"
   ]
  },
  {
   "cell_type": "code",
   "execution_count": 18,
   "id": "c272c8a9",
   "metadata": {},
   "outputs": [],
   "source": [
    "vtk_dataset_2 = VtkData( \n",
    "    \n",
    "                StructuredPoints([3,4,6]),\n",
    "\n",
    "                PointData(\n",
    "                    Scalars([0,0,0,0,0,0,0,0,0,0,0,0,\n",
    "                            0,5,10,15,20,25,25,20,15,10,5,0,\n",
    "                            0,10,20,30,40,50,50,40,30,20,10,0,\n",
    "                            0,10,20,30,40,50,50,40,30,20,10,0,\n",
    "                            0,5,10,15,20,25,25,20,15,10,5,0,\n",
    "                            0,0,0,0,0,0,0,0,0,0,0,0])) )"
   ]
  },
  {
   "cell_type": "code",
   "execution_count": 19,
   "id": "b0f4061f",
   "metadata": {},
   "outputs": [],
   "source": [
    "vtk_dataset_2.tofile('vtk_example_2')"
   ]
  },
  {
   "cell_type": "markdown",
   "id": "4667c4c9",
   "metadata": {},
   "source": [
    "#### Activities:\n",
    "\n",
    "- render with pyvista\n",
    "- open in paraview\n",
    "- compare point and volume representations\n",
    "- apply a filter "
   ]
  },
  {
   "cell_type": "markdown",
   "id": "b6254288",
   "metadata": {},
   "source": [
    "## Example 3:\n",
    "\n",
    "#### programmatically define Scalars"
   ]
  },
  {
   "cell_type": "code",
   "execution_count": 20,
   "id": "1e83afda",
   "metadata": {},
   "outputs": [],
   "source": [
    "def f(x,y,z):\n",
    "    return x * y * z"
   ]
  },
  {
   "cell_type": "code",
   "execution_count": 21,
   "id": "d2838a02",
   "metadata": {},
   "outputs": [],
   "source": [
    "vtk_dataset_3 = VtkData('vtk_example_2', only_structure = True )"
   ]
  },
  {
   "cell_type": "code",
   "execution_count": 22,
   "id": "fb290ba9",
   "metadata": {},
   "outputs": [],
   "source": [
    "vtk_dataset_3.point_data.append( vtk_dataset_3.structure.Scalars( f, 'x*y*z' ) )"
   ]
  },
  {
   "cell_type": "code",
   "execution_count": 23,
   "id": "77e6d074",
   "metadata": {},
   "outputs": [],
   "source": [
    "vtk_dataset_3.tofile('vtk_example_2f_sp')"
   ]
  },
  {
   "cell_type": "markdown",
   "id": "8b39c818",
   "metadata": {},
   "source": [
    "## Example 4:\n",
    "\n",
    "#### Structured Grid"
   ]
  },
  {
   "cell_type": "code",
   "execution_count": 24,
   "id": "eb178ad4",
   "metadata": {},
   "outputs": [],
   "source": [
    "pp = np.array([(i*2,j*2,k*2) for k in range(6) for j in range(4) for i in range(3)])"
   ]
  },
  {
   "cell_type": "code",
   "execution_count": 25,
   "id": "28048145",
   "metadata": {},
   "outputs": [],
   "source": [
    "vtk_dataset_4 = VtkData( StructuredGrid([3,4,6], pp))\n",
    "vtk_dataset_4.point_data.append(vtk_dataset_4.structure.Scalars(f,'x*y*z'))"
   ]
  },
  {
   "cell_type": "code",
   "execution_count": 26,
   "id": "fba6e913",
   "metadata": {},
   "outputs": [],
   "source": [
    "vtk_dataset_4.tofile('example2f_sg')"
   ]
  },
  {
   "cell_type": "markdown",
   "id": "c4ffef5b",
   "metadata": {},
   "source": [
    "## Example 5:\n",
    "\n",
    "#### Rectilinear Grid"
   ]
  },
  {
   "cell_type": "code",
   "execution_count": 27,
   "id": "acd6075a",
   "metadata": {},
   "outputs": [],
   "source": [
    "vtk_dataset_5 = VtkData(RectilinearGrid(range(6),range(8),range(12)))\n",
    "vtk_dataset_5.point_data.append(vtk_dataset_5.structure.Scalars(f,'x*y*z'))"
   ]
  },
  {
   "cell_type": "code",
   "execution_count": 28,
   "id": "fbbda1eb",
   "metadata": {},
   "outputs": [],
   "source": [
    "vtk_dataset_5.tofile('example2f_rg')"
   ]
  },
  {
   "cell_type": "markdown",
   "id": "5eafe9c0",
   "metadata": {},
   "source": [
    "#### Activities:\n",
    "\n",
    "- compare datasets\n",
    "- visualize in different renderview windows / notebook cells"
   ]
  },
  {
   "cell_type": "markdown",
   "id": "72dc8133",
   "metadata": {},
   "source": [
    "## Example 6:\n",
    "\n",
    "#### Unstructured Grid"
   ]
  },
  {
   "cell_type": "code",
   "execution_count": 29,
   "id": "3e8dd878",
   "metadata": {},
   "outputs": [],
   "source": [
    "points = [[0,0,0],[1,0,0],[2,0,0],[0,1,0],[1,1,0],[2,1,0],\n",
    "          [0,0,1],[1,0,1],[2,0,1],[0,1,1],[1,1,1],[2,1,1],\n",
    "          [0,1,2],[1,1,2],[2,1,2],[0,1,3],[1,1,3],[2,1,3],\n",
    "          [0,1,4],[1,1,4],[2,1,4],[0,1,5],[1,1,5],[2,1,5],\n",
    "          [0,1,6],[1,1,6],[2,1,6]\n",
    "          ]"
   ]
  },
  {
   "cell_type": "code",
   "execution_count": 30,
   "id": "1f532f2d",
   "metadata": {},
   "outputs": [],
   "source": [
    "vectors = [[1,0,0],[1,1,0],[0,2,0],[1,0,0],[1,1,0],[0,2,0],\n",
    "           [1,0,0],[1,1,0],[0,2,0],[1,0,0],[1,1,0],[0,2,0],\n",
    "           [0,0,1],[0,0,1],[0,0,1],[0,0,1],[0,0,1],[0,0,1],\n",
    "           [0,0,1],[0,0,1],[0,0,1],[0,0,1],[0,0,1],[0,0,1],\n",
    "           [0,0,1],[0,0,1],[0,0,1]\n",
    "           ]"
   ]
  },
  {
   "cell_type": "code",
   "execution_count": 31,
   "id": "0cc1d1b1",
   "metadata": {},
   "outputs": [],
   "source": [
    "vtk_dataset_6 = VtkData(\n",
    "        UnstructuredGrid( points,\n",
    "             hexahedron=[[0,1,4,3,6,7,10,9], [1,2,5,4,7,8,11,10]],\n",
    "             tetra=[[6,10,9,12], [5,11,10,14]],\n",
    "             polygon=[15,16,17,14,13,12],\n",
    "             triangle_strip=[18,15,19,16,20,17],\n",
    "             quad=[22,23,20,19],\n",
    "             triangle=[[21,22,18], [22,19,18]],\n",
    "             line=[26,25],\n",
    "             vertex=[24]\n",
    "             ),\n",
    "        PointData(Vectors(vectors), Scalars(range(27))),\n",
    "        'Unstructured Grid Example'\n",
    "        )"
   ]
  },
  {
   "cell_type": "code",
   "execution_count": 32,
   "id": "90c7a05c",
   "metadata": {},
   "outputs": [],
   "source": [
    "vtk_dataset_6.tofile('vtk_example3')"
   ]
  },
  {
   "cell_type": "markdown",
   "id": "c52a7333",
   "metadata": {},
   "source": [
    "#### Activities\n",
    "\n",
    "- modify mesh (add or remove shapes, combine to make others)"
   ]
  },
  {
   "cell_type": "markdown",
   "id": "ea983029",
   "metadata": {},
   "source": [
    "## Elevation data example 1:"
   ]
  },
  {
   "cell_type": "code",
   "execution_count": 33,
   "id": "d4cfe752",
   "metadata": {},
   "outputs": [
    {
     "name": "stdout",
     "output_type": "stream",
     "text": [
      "--2024-08-07 14:24:56--  https://github.com/jonaslindemann/compute-course-public/raw/master/dataviz/colorado_elev.vit\n",
      "Resolving github.com (github.com)... 140.82.112.3\n",
      "Connecting to github.com (github.com)|140.82.112.3|:443... connected.\n",
      "HTTP request sent, awaiting response... 302 Found\n",
      "Location: https://raw.githubusercontent.com/jonaslindemann/compute-course-public/master/dataviz/colorado_elev.vit [following]\n",
      "--2024-08-07 14:24:56--  https://raw.githubusercontent.com/jonaslindemann/compute-course-public/master/dataviz/colorado_elev.vit\n",
      "Resolving raw.githubusercontent.com (raw.githubusercontent.com)... 185.199.109.133, 185.199.111.133, 185.199.108.133, ...\n",
      "Connecting to raw.githubusercontent.com (raw.githubusercontent.com)|185.199.109.133|:443... connected.\n",
      "HTTP request sent, awaiting response... 200 OK\n",
      "Length: 160268 (157K) [application/octet-stream]\n",
      "Saving to: ‘colorado_elev.vit’\n",
      "\n",
      "colorado_elev.vit   100%[===================>] 156.51K  --.-KB/s    in 0.04s   \n",
      "\n",
      "2024-08-07 14:24:57 (3.42 MB/s) - ‘colorado_elev.vit’ saved [160268/160268]\n",
      "\n"
     ]
    }
   ],
   "source": [
    "## download example DEM\n",
    "!wget https://github.com/jonaslindemann/compute-course-public/raw/master/dataviz/colorado_elev.vit"
   ]
  },
  {
   "cell_type": "code",
   "execution_count": 34,
   "id": "b4b9b36c",
   "metadata": {},
   "outputs": [],
   "source": [
    "f = open(\"colorado_elev.vit\", \"rb\")  # open the file\n",
    "f.seek(268, os.SEEK_SET)  # seek\n",
    "\n",
    "data = np.fromfile(f, dtype=np.ubyte)  # read the data into numpy\n",
    "\n",
    "f.close()"
   ]
  },
  {
   "cell_type": "code",
   "execution_count": 35,
   "id": "232950a2",
   "metadata": {},
   "outputs": [],
   "source": [
    "elevation = np.reshape(data, (400,400)) # reshape to 2D"
   ]
  },
  {
   "cell_type": "code",
   "execution_count": 36,
   "id": "3d0813f5",
   "metadata": {},
   "outputs": [
    {
     "data": {
      "image/png": "[encoded data removed]",
      "text/plain": [
       "<Figure size 640x480 with 1 Axes>"
      ]
     },
     "metadata": {},
     "output_type": "display_data"
    }
   ],
   "source": [
    "plt.imshow(elevation)\n",
    "plt.show()"
   ]
  },
  {
   "cell_type": "code",
   "execution_count": 37,
   "id": "23c9a6b6",
   "metadata": {},
   "outputs": [],
   "source": [
    "pointdata = PointData(Scalars(data))\n",
    "data = VtkData(StructuredPoints([400,400]), pointdata)"
   ]
  },
  {
   "cell_type": "code",
   "execution_count": 38,
   "id": "2252ae96",
   "metadata": {},
   "outputs": [],
   "source": [
    "data.tofile('elevation','ascii')"
   ]
  },
  {
   "cell_type": "markdown",
   "id": "e5612a94",
   "metadata": {},
   "source": [
    "#### Activities:\n",
    "\n",
    "- open in ParaView\n",
    "- apply 'warpToScalar' filter\n",
    "- adjust colormap / representation to best highlight elevation differences"
   ]
  },
  {
   "cell_type": "markdown",
   "id": "910c1281",
   "metadata": {},
   "source": [
    "## Elevation data example 2:"
   ]
  },
  {
   "cell_type": "code",
   "execution_count": 39,
   "id": "c6e2446b",
   "metadata": {},
   "outputs": [],
   "source": [
    "from pyvista import examples"
   ]
  },
  {
   "cell_type": "code",
   "execution_count": 40,
   "id": "239511dc",
   "metadata": {},
   "outputs": [
    {
     "data": {
      "text/html": [
       "<table style='width: 100%;'><tr><th>Header</th><th>Data Arrays</th></tr><tr><td>\n",
       "<table style='width: 100%;'>\n",
       "<tr><th>ImageData</th><th>Information</th></tr>\n",
       "<tr><td>N Cells</td><td>1677401</td></tr>\n",
       "<tr><td>N Points</td><td>1680000</td></tr>\n",
       "<tr><td>X Bounds</td><td>1.810e+06, 1.831e+06</td></tr>\n",
       "<tr><td>Y Bounds</td><td>5.640e+06, 5.658e+06</td></tr>\n",
       "<tr><td>Z Bounds</td><td>0.000e+00, 0.000e+00</td></tr>\n",
       "<tr><td>Dimensions</td><td>1400, 1200, 1</td></tr>\n",
       "<tr><td>Spacing</td><td>1.500e+01, 1.500e+01, 0.000e+00</td></tr>\n",
       "<tr><td>N Arrays</td><td>1</td></tr>\n",
       "</table>\n",
       "\n",
       "</td><td>\n",
       "<table style='width: 100%;'>\n",
       "<tr><th>Name</th><th>Field</th><th>Type</th><th>N Comp</th><th>Min</th><th>Max</th></tr>\n",
       "<tr><td><b>scalar1of1</b></td><td>Points</td><td>float64</td><td>1</td><td>7.339e+02</td><td>2.787e+03</td></tr>\n",
       "</table>\n",
       "\n",
       "</td></tr> </table>"
      ],
      "text/plain": [
       "ImageData (0x17868c280)\n",
       "  N Cells:      1677401\n",
       "  N Points:     1680000\n",
       "  X Bounds:     1.810e+06, 1.831e+06\n",
       "  Y Bounds:     5.640e+06, 5.658e+06\n",
       "  Z Bounds:     0.000e+00, 0.000e+00\n",
       "  Dimensions:   1400, 1200, 1\n",
       "  Spacing:      1.500e+01, 1.500e+01, 0.000e+00\n",
       "  N Arrays:     1"
      ]
     },
     "execution_count": 40,
     "metadata": {},
     "output_type": "execute_result"
    }
   ],
   "source": [
    "dem = examples.download_crater_topo()\n",
    "dem"
   ]
  },
  {
   "cell_type": "markdown",
   "id": "349b768e",
   "metadata": {},
   "source": [
    "Now let’s subsample and extract an area of interest to make this example simple.\n",
    "\n",
    "Since the DEM we loaded is a `pyvista.ImageData` mesh, \n",
    "we can use the `pyvista.ImageDataFilters.extract_subset()` filter:"
   ]
  },
  {
   "cell_type": "code",
   "execution_count": 41,
   "id": "96e16217",
   "metadata": {},
   "outputs": [
    {
     "data": {
      "application/vnd.jupyter.widget-view+json": {
       "model_id": "feeb87d6a3004df1885f5a03696684ff",
       "version_major": 2,
       "version_minor": 0
      },
      "text/plain": [
       "Widget(value='<iframe src=\"http://localhost:63251/index.html?ui=P_0x16b2db850_0&reconnect=auto\" class=\"pyvista…"
      ]
     },
     "metadata": {},
     "output_type": "display_data"
    }
   ],
   "source": [
    "subset = dem.extract_subset((500, 900, 400, 800, 0, 0), (5, 5, 1))\n",
    "subset.plot(cpos=\"xy\")"
   ]
  },
  {
   "cell_type": "code",
   "execution_count": null,
   "id": "04e1462e",
   "metadata": {},
   "outputs": [
    {
     "data": {
      "text/html": [
       "<table><tr><th>Header</th><th>Data Arrays</th></tr><tr><td>\n",
       "<table>\n",
       "<tr><th>StructuredGrid</th><th>Information</th></tr>\n",
       "<tr><td>N Cells</td><td>6400</td></tr>\n",
       "<tr><td>N Points</td><td>6561</td></tr>\n",
       "<tr><td>X Bounds</td><td>1.818e+06, 1.824e+06</td></tr>\n",
       "<tr><td>Y Bounds</td><td>5.646e+06, 5.652e+06</td></tr>\n",
       "<tr><td>Z Bounds</td><td>1.441e+03, 2.769e+03</td></tr>\n",
       "<tr><td>Dimensions</td><td>81, 81, 1</td></tr>\n",
       "<tr><td>N Arrays</td><td>1</td></tr>\n",
       "</table>\n",
       "\n",
       "</td><td>\n",
       "<table>\n",
       "<tr><th>Name</th><th>Field</th><th>Type</th><th>N Comp</th><th>Min</th><th>Max</th></tr>\n",
       "<tr><td><b>scalar1of1</b></td><td>Points</td><td>float64</td><td>1</td><td>1.441e+03</td><td>2.769e+03</td></tr>\n",
       "</table>\n",
       "\n",
       "</td></tr> </table>"
      ],
      "text/plain": [
       "StructuredGrid (0x7f4fa32390a0)\n",
       "  N Cells:      6400\n",
       "  N Points:     6561\n",
       "  X Bounds:     1.818e+06, 1.824e+06\n",
       "  Y Bounds:     5.646e+06, 5.652e+06\n",
       "  Z Bounds:     1.441e+03, 2.769e+03\n",
       "  Dimensions:   81, 81, 1\n",
       "  N Arrays:     1"
      ]
     },
     "execution_count": 53,
     "metadata": {},
     "output_type": "execute_result"
    }
   ],
   "source": [
    "terrain = subset.warp_by_scalar()\n",
    "terrain"
   ]
  },
  {
   "cell_type": "code",
   "execution_count": null,
   "id": "3e5d870f",
   "metadata": {},
   "outputs": [
    {
     "data": {
      "application/vnd.jupyter.widget-view+json": {
       "model_id": "da12a1af0b3243c88b496a698d5b4ec8",
       "version_major": 2,
       "version_minor": 0
      },
      "text/plain": [
       "Widget(value=\"<iframe src='http://localhost:38595/index.html?ui=P_0x7f4fa1ce5070_4&reconnect=auto' style='widt…"
      ]
     },
     "metadata": {},
     "output_type": "display_data"
    }
   ],
   "source": [
    "terrain.plot()"
   ]
  },
  {
   "cell_type": "markdown",
   "id": "0351ea00",
   "metadata": {},
   "source": [
    "And now we have a 3D structured surface of the terrain. We can now extend that structured surface into a 3D mesh to form a terrain following grid."
   ]
  },
  {
   "cell_type": "code",
   "execution_count": null,
   "id": "bdfc923b",
   "metadata": {},
   "outputs": [
    {
     "data": {
      "text/html": [
       "<table><tr><th>Header</th><th>Data Arrays</th></tr><tr><td>\n",
       "<table>\n",
       "<tr><th>StructuredGrid</th><th>Information</th></tr>\n",
       "<tr><td>N Cells</td><td>70400</td></tr>\n",
       "<tr><td>N Points</td><td>78732</td></tr>\n",
       "<tr><td>X Bounds</td><td>1.818e+06, 1.824e+06</td></tr>\n",
       "<tr><td>Y Bounds</td><td>5.646e+06, 5.652e+06</td></tr>\n",
       "<tr><td>Z Bounds</td><td>9.364e+02, 2.744e+03</td></tr>\n",
       "<tr><td>Dimensions</td><td>81, 81, 12</td></tr>\n",
       "<tr><td>N Arrays</td><td>1</td></tr>\n",
       "</table>\n",
       "\n",
       "</td><td>\n",
       "<table>\n",
       "<tr><th>Name</th><th>Field</th><th>Type</th><th>N Comp</th><th>Min</th><th>Max</th></tr>\n",
       "<tr><td><b>Elevation</b></td><td>Points</td><td>float64</td><td>1</td><td>9.364e+02</td><td>2.744e+03</td></tr>\n",
       "</table>\n",
       "\n",
       "</td></tr> </table>"
      ],
      "text/plain": [
       "StructuredGrid (0x7f4fa31dd940)\n",
       "  N Cells:      70400\n",
       "  N Points:     78732\n",
       "  X Bounds:     1.818e+06, 1.824e+06\n",
       "  Y Bounds:     5.646e+06, 5.652e+06\n",
       "  Z Bounds:     9.364e+02, 2.744e+03\n",
       "  Dimensions:   81, 81, 12\n",
       "  N Arrays:     1"
      ]
     },
     "execution_count": 16,
     "metadata": {},
     "output_type": "execute_result"
    }
   ],
   "source": [
    "z_cells = np.array([25] * 5 + [35] * 3 + [50] * 2 + [75, 100])\n",
    "\n",
    "xx = np.repeat(terrain.x, len(z_cells), axis=-1)\n",
    "yy = np.repeat(terrain.y, len(z_cells), axis=-1)\n",
    "zz = np.repeat(terrain.z, len(z_cells), axis=-1) - np.cumsum(z_cells).reshape((1, 1, -1))\n",
    "\n",
    "mesh = pv.StructuredGrid(xx, yy, zz)\n",
    "mesh[\"Elevation\"] = zz.ravel(order=\"F\")\n",
    "mesh"
   ]
  },
  {
   "cell_type": "code",
   "execution_count": null,
   "id": "701f0123",
   "metadata": {},
   "outputs": [
    {
     "data": {
      "application/vnd.jupyter.widget-view+json": {
       "model_id": "8fbeaebc23dd45b38a2c1d3b2b46eb51",
       "version_major": 2,
       "version_minor": 0
      },
      "text/plain": [
       "Widget(value=\"<iframe src='http://localhost:38595/index.html?ui=P_0x7f4fc3b1d2e0_5&reconnect=auto' style='widt…"
      ]
     },
     "metadata": {},
     "output_type": "display_data"
    }
   ],
   "source": [
    "mesh.plot(show_edges=True)"
   ]
  },
  {
   "cell_type": "code",
   "execution_count": null,
   "id": "ef218acd",
   "metadata": {},
   "outputs": [],
   "source": [
    "## save to disk\n",
    "mesh.save('terrain_following_grid.vtk')"
   ]
  },
  {
   "cell_type": "markdown",
   "id": "3cbfd0e4",
   "metadata": {},
   "source": [
    "## reference:\n",
    "- https://tutorial.pyvista.org/tutorial/00_jupyter/index.html\n",
    "- https://tutorial.pyvista.org/tutorial/06_vtk/b_create_vtk.html\n",
    "- https://docs.pyvista.org/version/stable/examples/\n",
    "- https://www.youtube.com/watch?v=b8N_xvRZCho&ab_channel=JonasLindemann\n",
    "- https://docs.pyvista.org/version/stable/examples/00-load/terrain-mesh#sphx-glr-examples-00-load-terrain-mesh-py"
   ]
  },
  {
   "cell_type": "code",
   "execution_count": null,
   "id": "97783d64",
   "metadata": {},
   "outputs": [],
   "source": []
  },
  {
   "cell_type": "code",
   "execution_count": null,
   "id": "3a8abb11",
   "metadata": {},
   "outputs": [],
   "source": []
  },
  {
   "cell_type": "code",
   "execution_count": null,
   "id": "a00c1226",
   "metadata": {},
   "outputs": [],
   "source": []
  },
  {
   "cell_type": "code",
   "execution_count": null,
   "id": "a3978250",
   "metadata": {},
   "outputs": [],
   "source": []
  }
 ],
 "metadata": {
  "kernelspec": {
   "display_name": "Python 3 (ipykernel)",
   "language": "python",
   "name": "python3"
  },
  "language_info": {
   "codemirror_mode": {
    "name": "ipython",
    "version": 3
   },
   "file_extension": ".py",
   "mimetype": "text/x-python",
   "name": "python",
   "nbconvert_exporter": "python",
   "pygments_lexer": "ipython3",
   "version": "3.11.9"
  }
 },
 "nbformat": 4,
 "nbformat_minor": 5
}
